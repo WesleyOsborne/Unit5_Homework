{
 "cells": [
  {
   "cell_type": "code",
   "execution_count": 3,
   "id": "d563a79d-b616-4912-9f29-e6f4ef9cbf3d",
   "metadata": {},
   "outputs": [],
   "source": [
    "import os\n",
    "import requests\n",
    "import pandas as pd\n",
    "from dotenv import load_dotenv\n",
    "import alpaca_trade_api as tradeapi\n",
    "from MCForecastTools import MCSimulation\n",
    "%matplotlib inline"
   ]
  },
  {
   "cell_type": "code",
   "execution_count": 4,
   "id": "6e3fbabb-739e-4d74-9fde-7b811f143c49",
   "metadata": {},
   "outputs": [
    {
     "data": {
      "text/plain": [
       "True"
      ]
     },
     "execution_count": 4,
     "metadata": {},
     "output_type": "execute_result"
    }
   ],
   "source": [
    "load_dotenv()"
   ]
  },
  {
   "cell_type": "code",
   "execution_count": 5,
   "id": "210f02d9-3ef8-40c3-81cb-a58a9d636d50",
   "metadata": {},
   "outputs": [],
   "source": [
    "# Set current amoung of crypto assets\n",
    "My_BTC = 1.2\n",
    "My_ETH = 5.3"
   ]
  },
  {
   "cell_type": "code",
   "execution_count": 6,
   "id": "89c63a11-161b-421a-bd7c-e60cb83b990b",
   "metadata": {},
   "outputs": [],
   "source": [
    "# Crypto API URLs\n",
    "btc_url = \"https://api.alternative.me/v2/ticker/Bitcoin/?convert=CAD\"\n",
    "eth_url = \"https://api.alternative.me/v2/ticker/Ethereum/?convert=CAD\""
   ]
  },
  {
   "cell_type": "code",
   "execution_count": 7,
   "id": "9bbbc95c-1abd-41ae-91cc-ab59a12a4eff",
   "metadata": {},
   "outputs": [
    {
     "data": {
      "text/plain": [
       "b'{\\n\\t\"data\": {\\n\\t\\t\"1\": {\\n\\t\\t\\t\"id\": 1,\\n\\t\\t\\t\"name\": \"Bitcoin\",\\n\\t\\t\\t\"symbol\": \"BTC\",\\n\\t\\t\\t\"website_slug\": \"bitcoin\",\\n\\t\\t\\t\"rank\": 1,\\n\\t\\t\\t\"circulating_supply\": 18731943,\\n\\t\\t\\t\"total_supply\": 18731943,\\n\\t\\t\\t\"max_supply\": 21000000,\\n\\t\\t\\t\"quotes\": {\\n\\t\\t\\t\\t\"USD\": {\\n\\t\\t\\t\\t\\t\"price\": 36613.0000000000000000,\\n\\t\\t\\t\\t\\t\"volume_24h\": 42720771847,\\n\\t\\t\\t\\t\\t\"market_cap\": 687100045838,\\n\\t\\t\\t\\t\\t\"percentage_change_1h\": -1.0671943812575200,\\n\\t\\t\\t\\t\\t\"percentage_change_24h\": -2.2049223215628500,\\n\\t\\t\\t\\t\\t\"percentage_change_7d\": -6.4836512360106400,\\n\\t\\t\\t\\t\\t\"percent_change_1h\": -1.0671943812575200,\\n\\t\\t\\t\\t\\t\"percent_change_24h\": -2.2049223215628500,\\n\\t\\t\\t\\t\\t\"percent_change_7d\": -6.4836512360106400\\n\\t\\t\\t\\t},\\n\\t\\t\\t\\t\"CAD\": {\\n\\t\\t\\t\\t\\t\"price\": 44294.4074,\\n\\t\\t\\t\\t\\t\"volume_24h\": 51683589780.5006,\\n\\t\\t\\t\\t\\t\"market_cap\": 831253635454.813,\\n\\t\\t\\t\\t\\t\"percent_change_1h\": -1.0671943812575200,\\n\\t\\t\\t\\t\\t\"percent_change_24h\": -2.2049223215628500,\\n\\t\\t\\t\\t\\t\"percent_change_7d\": -6.4836512360106400\\n\\t\\t\\t\\t}\\n\\t\\t\\t},\\n\\t\\t\\t\"last_updated\": 1623369864\\n\\t\\t}\\n\\t},\\n\\t\"metadata\": {\\n\\t\\t\"timestamp\": 1623369864,\\n\\t\\t\"num_cryptocurrencies\": 1292,\\n\\t\\t\"error\": null\\n\\t}\\n}'"
      ]
     },
     "execution_count": 7,
     "metadata": {},
     "output_type": "execute_result"
    }
   ],
   "source": [
    "# Fetch Current BTC Price\n",
    "BTC_Price = requests.get(btc_url)\n",
    "BTC_Price\n",
    "Response_BTC_Price = BTC_Price.content\n",
    "Response_BTC_Price\n"
   ]
  },
  {
   "cell_type": "code",
   "execution_count": 8,
   "id": "de37cd32-83cb-44ac-8f72-bce722871a5f",
   "metadata": {},
   "outputs": [
    {
     "data": {
      "text/plain": [
       "{'data': {'1': {'id': 1,\n",
       "   'name': 'Bitcoin',\n",
       "   'symbol': 'BTC',\n",
       "   'website_slug': 'bitcoin',\n",
       "   'rank': 1,\n",
       "   'circulating_supply': 18731943,\n",
       "   'total_supply': 18731943,\n",
       "   'max_supply': 21000000,\n",
       "   'quotes': {'USD': {'price': 36613.0,\n",
       "     'volume_24h': 42720771847,\n",
       "     'market_cap': 687100045838,\n",
       "     'percentage_change_1h': -1.06719438125752,\n",
       "     'percentage_change_24h': -2.20492232156285,\n",
       "     'percentage_change_7d': -6.48365123601064,\n",
       "     'percent_change_1h': -1.06719438125752,\n",
       "     'percent_change_24h': -2.20492232156285,\n",
       "     'percent_change_7d': -6.48365123601064},\n",
       "    'CAD': {'price': 44294.4074,\n",
       "     'volume_24h': 51683589780.5006,\n",
       "     'market_cap': 831253635454.813,\n",
       "     'percent_change_1h': -1.06719438125752,\n",
       "     'percent_change_24h': -2.20492232156285,\n",
       "     'percent_change_7d': -6.48365123601064}},\n",
       "   'last_updated': 1623369864}},\n",
       " 'metadata': {'timestamp': 1623369864,\n",
       "  'num_cryptocurrencies': 1292,\n",
       "  'error': None}}"
      ]
     },
     "execution_count": 8,
     "metadata": {},
     "output_type": "execute_result"
    }
   ],
   "source": [
    "import json\n",
    "BTC_Data = json.loads(Response_BTC_Price.decode('utf-8'))\n",
    "BTC_Data\n"
   ]
  },
  {
   "cell_type": "code",
   "execution_count": 9,
   "id": "dbdce0ee-5de6-42e2-b2d9-a463f5a33e13",
   "metadata": {},
   "outputs": [
    {
     "data": {
      "text/plain": [
       "44294.4074"
      ]
     },
     "execution_count": 9,
     "metadata": {},
     "output_type": "execute_result"
    }
   ],
   "source": [
    "Current_BTC_Value = BTC_Data[\"data\"][\"1\"][\"quotes\"][\"CAD\"][\"price\"]\n",
    "Current_BTC_Value"
   ]
  },
  {
   "cell_type": "code",
   "execution_count": 10,
   "id": "623a3f82-07f8-422b-8e41-fdc27f91ef87",
   "metadata": {},
   "outputs": [
    {
     "data": {
      "text/plain": [
       "b'{\\n\\t\"data\": {\\n\\t\\t\"1027\": {\\n\\t\\t\\t\"id\": 1027,\\n\\t\\t\\t\"name\": \"Ethereum\",\\n\\t\\t\\t\"symbol\": \"ETH\",\\n\\t\\t\\t\"website_slug\": \"ethereum\",\\n\\t\\t\\t\"rank\": 2,\\n\\t\\t\\t\"circulating_supply\": 116239991,\\n\\t\\t\\t\"total_supply\": 116239991,\\n\\t\\t\\t\"max_supply\": 0,\\n\\t\\t\\t\"quotes\": {\\n\\t\\t\\t\\t\"USD\": {\\n\\t\\t\\t\\t\\t\"price\": 2465.5500000000000000,\\n\\t\\t\\t\\t\\t\"volume_24h\": 32712954828,\\n\\t\\t\\t\\t\\t\"market_cap\": 287348622872,\\n\\t\\t\\t\\t\\t\"percentage_change_1h\": -1.4073006748256200,\\n\\t\\t\\t\\t\\t\"percentage_change_24h\": -5.6922131087705800,\\n\\t\\t\\t\\t\\t\"percentage_change_7d\": -13.7399983629401000,\\n\\t\\t\\t\\t\\t\"percent_change_1h\": -1.4073006748256200,\\n\\t\\t\\t\\t\\t\"percent_change_24h\": -5.6922131087705800,\\n\\t\\t\\t\\t\\t\"percent_change_7d\": -13.7399983629401000\\n\\t\\t\\t\\t},\\n\\t\\t\\t\\t\"CAD\": {\\n\\t\\t\\t\\t\\t\"price\": 2982.82239,\\n\\t\\t\\t\\t\\t\"volume_24h\": 39576132750.9144,\\n\\t\\t\\t\\t\\t\"market_cap\": 347634363950.546,\\n\\t\\t\\t\\t\\t\"percent_change_1h\": -1.4073006748256200,\\n\\t\\t\\t\\t\\t\"percent_change_24h\": -5.6922131087705800,\\n\\t\\t\\t\\t\\t\"percent_change_7d\": -13.7399983629401000\\n\\t\\t\\t\\t}\\n\\t\\t\\t},\\n\\t\\t\\t\"last_updated\": 1623369849\\n\\t\\t}\\n\\t},\\n\\t\"metadata\": {\\n\\t\\t\"timestamp\": 1623369849,\\n\\t\\t\"num_cryptocurrencies\": 1292,\\n\\t\\t\"error\": null\\n\\t}\\n}'"
      ]
     },
     "execution_count": 10,
     "metadata": {},
     "output_type": "execute_result"
    }
   ],
   "source": [
    "# Fetch Current ETH Price\n",
    "ETH_Price = requests.get(eth_url)\n",
    "ETH_Price\n",
    "Response_ETH_Price = ETH_Price.content\n",
    "Response_ETH_Price"
   ]
  },
  {
   "cell_type": "code",
   "execution_count": 11,
   "id": "28ff1746-9872-409a-b191-2e18aaf9deaf",
   "metadata": {},
   "outputs": [
    {
     "data": {
      "text/plain": [
       "{'data': {'1027': {'id': 1027,\n",
       "   'name': 'Ethereum',\n",
       "   'symbol': 'ETH',\n",
       "   'website_slug': 'ethereum',\n",
       "   'rank': 2,\n",
       "   'circulating_supply': 116239991,\n",
       "   'total_supply': 116239991,\n",
       "   'max_supply': 0,\n",
       "   'quotes': {'USD': {'price': 2465.55,\n",
       "     'volume_24h': 32712954828,\n",
       "     'market_cap': 287348622872,\n",
       "     'percentage_change_1h': -1.40730067482562,\n",
       "     'percentage_change_24h': -5.69221310877058,\n",
       "     'percentage_change_7d': -13.7399983629401,\n",
       "     'percent_change_1h': -1.40730067482562,\n",
       "     'percent_change_24h': -5.69221310877058,\n",
       "     'percent_change_7d': -13.7399983629401},\n",
       "    'CAD': {'price': 2982.82239,\n",
       "     'volume_24h': 39576132750.9144,\n",
       "     'market_cap': 347634363950.546,\n",
       "     'percent_change_1h': -1.40730067482562,\n",
       "     'percent_change_24h': -5.69221310877058,\n",
       "     'percent_change_7d': -13.7399983629401}},\n",
       "   'last_updated': 1623369849}},\n",
       " 'metadata': {'timestamp': 1623369849,\n",
       "  'num_cryptocurrencies': 1292,\n",
       "  'error': None}}"
      ]
     },
     "execution_count": 11,
     "metadata": {},
     "output_type": "execute_result"
    }
   ],
   "source": [
    "ETH_Data = json.loads(Response_ETH_Price.decode('utf-8'))\n",
    "ETH_Data"
   ]
  },
  {
   "cell_type": "code",
   "execution_count": 12,
   "id": "2eeed8a8-0864-4c0d-adbc-e6f3ff014158",
   "metadata": {},
   "outputs": [
    {
     "data": {
      "text/plain": [
       "2982.82239"
      ]
     },
     "execution_count": 12,
     "metadata": {},
     "output_type": "execute_result"
    }
   ],
   "source": [
    "Current_ETH_Value = ETH_Data[\"data\"][\"1027\"][\"quotes\"][\"CAD\"][\"price\"]\n",
    "Current_ETH_Value"
   ]
  },
  {
   "cell_type": "code",
   "execution_count": 13,
   "id": "749e1093-7d1a-4d45-a489-43d5e9d4b0a0",
   "metadata": {},
   "outputs": [
    {
     "name": "stdout",
     "output_type": "stream",
     "text": [
      "The current value of your 1.2 BTC holdings is 53153.28887999999\n",
      "The current value of your 5.3 ETH holdings is 15808.958666999999\n"
     ]
    }
   ],
   "source": [
    "# Calculate your total BTC and ETH holdings based on your amount (1.2 BTC, 5.3 ETH)\n",
    "My_BTC_Value = My_BTC * Current_BTC_Value\n",
    "My_ETH_Value = My_ETH * Current_ETH_Value\n",
    "\n",
    "print(f\"The current value of your {My_BTC} BTC holdings is {My_BTC_Value}\")\n",
    "print(f\"The current value of your {My_ETH} ETH holdings is {My_ETH_Value}\")\n",
    "      "
   ]
  },
  {
   "cell_type": "code",
   "execution_count": 14,
   "id": "72f9ce5c-725a-4743-b6f2-86aedf0cfa65",
   "metadata": {},
   "outputs": [],
   "source": [
    "# Collecting Request through ALPACA\n",
    "# Create Bonds (AGG) and Stocks (SPY) variable\n",
    "my_Agg = 200\n",
    "my_Spy = 50"
   ]
  },
  {
   "cell_type": "code",
   "execution_count": 15,
   "id": "ee426a08-62e8-40ee-92c1-65150b57788d",
   "metadata": {},
   "outputs": [
    {
     "data": {
      "text/plain": [
       "str"
      ]
     },
     "execution_count": 15,
     "metadata": {},
     "output_type": "execute_result"
    }
   ],
   "source": [
    "Alpaca_API_Key =os.getenv(\"Alpaca_API_Key_ID\")\n",
    "type(Alpaca_API_Key)"
   ]
  },
  {
   "cell_type": "code",
   "execution_count": 16,
   "id": "311b091f-0380-4edb-b9e6-da0c84101c57",
   "metadata": {},
   "outputs": [
    {
     "data": {
      "text/plain": [
       "str"
      ]
     },
     "execution_count": 16,
     "metadata": {},
     "output_type": "execute_result"
    }
   ],
   "source": [
    "Alpaca_S_Key = os.getenv(\"Alpaca_Secret_Key\")\n",
    "type(Alpaca_S_Key)"
   ]
  },
  {
   "cell_type": "code",
   "execution_count": 17,
   "id": "561b46ac-1995-476a-986c-687a9911d097",
   "metadata": {},
   "outputs": [],
   "source": [
    "Alpaca = tradeapi.REST(Alpaca_API_Key, Alpaca_S_Key, api_version = \"v2\")"
   ]
  },
  {
   "cell_type": "code",
   "execution_count": 18,
   "id": "2bd3944b-0541-4383-90c9-cfef29d2fc5c",
   "metadata": {},
   "outputs": [
    {
     "data": {
      "text/html": [
       "<div>\n",
       "<style scoped>\n",
       "    .dataframe tbody tr th:only-of-type {\n",
       "        vertical-align: middle;\n",
       "    }\n",
       "\n",
       "    .dataframe tbody tr th {\n",
       "        vertical-align: top;\n",
       "    }\n",
       "\n",
       "    .dataframe thead tr th {\n",
       "        text-align: left;\n",
       "    }\n",
       "</style>\n",
       "<table border=\"1\" class=\"dataframe\">\n",
       "  <thead>\n",
       "    <tr>\n",
       "      <th></th>\n",
       "      <th colspan=\"5\" halign=\"left\">AGG</th>\n",
       "      <th colspan=\"5\" halign=\"left\">SPY</th>\n",
       "    </tr>\n",
       "    <tr>\n",
       "      <th></th>\n",
       "      <th>open</th>\n",
       "      <th>high</th>\n",
       "      <th>low</th>\n",
       "      <th>close</th>\n",
       "      <th>volume</th>\n",
       "      <th>open</th>\n",
       "      <th>high</th>\n",
       "      <th>low</th>\n",
       "      <th>close</th>\n",
       "      <th>volume</th>\n",
       "    </tr>\n",
       "  </thead>\n",
       "  <tbody>\n",
       "    <tr>\n",
       "      <th>2017-06-19</th>\n",
       "      <td>109.87</td>\n",
       "      <td>109.9000</td>\n",
       "      <td>109.74</td>\n",
       "      <td>109.790</td>\n",
       "      <td>1375531</td>\n",
       "      <td>243.59</td>\n",
       "      <td>244.73</td>\n",
       "      <td>243.4800</td>\n",
       "      <td>244.64</td>\n",
       "      <td>42503652</td>\n",
       "    </tr>\n",
       "    <tr>\n",
       "      <th>2017-06-20</th>\n",
       "      <td>109.85</td>\n",
       "      <td>110.0300</td>\n",
       "      <td>109.80</td>\n",
       "      <td>109.975</td>\n",
       "      <td>2010628</td>\n",
       "      <td>244.25</td>\n",
       "      <td>244.26</td>\n",
       "      <td>242.9900</td>\n",
       "      <td>243.04</td>\n",
       "      <td>39203167</td>\n",
       "    </tr>\n",
       "    <tr>\n",
       "      <th>2017-06-21</th>\n",
       "      <td>109.88</td>\n",
       "      <td>110.0400</td>\n",
       "      <td>109.88</td>\n",
       "      <td>109.980</td>\n",
       "      <td>1085301</td>\n",
       "      <td>243.43</td>\n",
       "      <td>243.59</td>\n",
       "      <td>242.4100</td>\n",
       "      <td>242.95</td>\n",
       "      <td>42746920</td>\n",
       "    </tr>\n",
       "    <tr>\n",
       "      <th>2017-06-22</th>\n",
       "      <td>110.06</td>\n",
       "      <td>110.0947</td>\n",
       "      <td>109.95</td>\n",
       "      <td>110.050</td>\n",
       "      <td>1295361</td>\n",
       "      <td>242.97</td>\n",
       "      <td>243.53</td>\n",
       "      <td>242.6400</td>\n",
       "      <td>242.83</td>\n",
       "      <td>32991335</td>\n",
       "    </tr>\n",
       "    <tr>\n",
       "      <th>2017-06-23</th>\n",
       "      <td>110.01</td>\n",
       "      <td>110.1085</td>\n",
       "      <td>109.98</td>\n",
       "      <td>110.070</td>\n",
       "      <td>1101304</td>\n",
       "      <td>242.91</td>\n",
       "      <td>243.51</td>\n",
       "      <td>242.4700</td>\n",
       "      <td>243.16</td>\n",
       "      <td>45792641</td>\n",
       "    </tr>\n",
       "    <tr>\n",
       "      <th>...</th>\n",
       "      <td>...</td>\n",
       "      <td>...</td>\n",
       "      <td>...</td>\n",
       "      <td>...</td>\n",
       "      <td>...</td>\n",
       "      <td>...</td>\n",
       "      <td>...</td>\n",
       "      <td>...</td>\n",
       "      <td>...</td>\n",
       "      <td>...</td>\n",
       "    </tr>\n",
       "    <tr>\n",
       "      <th>2021-06-02</th>\n",
       "      <td>114.45</td>\n",
       "      <td>114.5100</td>\n",
       "      <td>114.30</td>\n",
       "      <td>114.485</td>\n",
       "      <td>5649317</td>\n",
       "      <td>420.37</td>\n",
       "      <td>421.23</td>\n",
       "      <td>419.2900</td>\n",
       "      <td>420.38</td>\n",
       "      <td>41250387</td>\n",
       "    </tr>\n",
       "    <tr>\n",
       "      <th>2021-06-03</th>\n",
       "      <td>114.31</td>\n",
       "      <td>114.4600</td>\n",
       "      <td>114.21</td>\n",
       "      <td>114.210</td>\n",
       "      <td>3270096</td>\n",
       "      <td>417.87</td>\n",
       "      <td>419.99</td>\n",
       "      <td>416.2800</td>\n",
       "      <td>418.86</td>\n",
       "      <td>51582905</td>\n",
       "    </tr>\n",
       "    <tr>\n",
       "      <th>2021-06-04</th>\n",
       "      <td>114.39</td>\n",
       "      <td>114.6700</td>\n",
       "      <td>114.22</td>\n",
       "      <td>114.665</td>\n",
       "      <td>4334878</td>\n",
       "      <td>420.75</td>\n",
       "      <td>422.92</td>\n",
       "      <td>418.8422</td>\n",
       "      <td>422.57</td>\n",
       "      <td>45129316</td>\n",
       "    </tr>\n",
       "    <tr>\n",
       "      <th>2021-06-07</th>\n",
       "      <td>113.97</td>\n",
       "      <td>114.6400</td>\n",
       "      <td>113.97</td>\n",
       "      <td>114.595</td>\n",
       "      <td>3639918</td>\n",
       "      <td>422.59</td>\n",
       "      <td>422.78</td>\n",
       "      <td>421.1900</td>\n",
       "      <td>422.23</td>\n",
       "      <td>41442963</td>\n",
       "    </tr>\n",
       "    <tr>\n",
       "      <th>2021-06-08</th>\n",
       "      <td>114.84</td>\n",
       "      <td>114.8700</td>\n",
       "      <td>114.78</td>\n",
       "      <td>114.820</td>\n",
       "      <td>3951702</td>\n",
       "      <td>423.11</td>\n",
       "      <td>423.21</td>\n",
       "      <td>420.3200</td>\n",
       "      <td>422.27</td>\n",
       "      <td>40131441</td>\n",
       "    </tr>\n",
       "  </tbody>\n",
       "</table>\n",
       "<p>1000 rows × 10 columns</p>\n",
       "</div>"
      ],
      "text/plain": [
       "               AGG                                         SPY          \\\n",
       "              open      high     low    close   volume    open    high   \n",
       "2017-06-19  109.87  109.9000  109.74  109.790  1375531  243.59  244.73   \n",
       "2017-06-20  109.85  110.0300  109.80  109.975  2010628  244.25  244.26   \n",
       "2017-06-21  109.88  110.0400  109.88  109.980  1085301  243.43  243.59   \n",
       "2017-06-22  110.06  110.0947  109.95  110.050  1295361  242.97  243.53   \n",
       "2017-06-23  110.01  110.1085  109.98  110.070  1101304  242.91  243.51   \n",
       "...            ...       ...     ...      ...      ...     ...     ...   \n",
       "2021-06-02  114.45  114.5100  114.30  114.485  5649317  420.37  421.23   \n",
       "2021-06-03  114.31  114.4600  114.21  114.210  3270096  417.87  419.99   \n",
       "2021-06-04  114.39  114.6700  114.22  114.665  4334878  420.75  422.92   \n",
       "2021-06-07  113.97  114.6400  113.97  114.595  3639918  422.59  422.78   \n",
       "2021-06-08  114.84  114.8700  114.78  114.820  3951702  423.11  423.21   \n",
       "\n",
       "                                        \n",
       "                 low   close    volume  \n",
       "2017-06-19  243.4800  244.64  42503652  \n",
       "2017-06-20  242.9900  243.04  39203167  \n",
       "2017-06-21  242.4100  242.95  42746920  \n",
       "2017-06-22  242.6400  242.83  32991335  \n",
       "2017-06-23  242.4700  243.16  45792641  \n",
       "...              ...     ...       ...  \n",
       "2021-06-02  419.2900  420.38  41250387  \n",
       "2021-06-03  416.2800  418.86  51582905  \n",
       "2021-06-04  418.8422  422.57  45129316  \n",
       "2021-06-07  421.1900  422.23  41442963  \n",
       "2021-06-08  420.3200  422.27  40131441  \n",
       "\n",
       "[1000 rows x 10 columns]"
      ]
     },
     "execution_count": 18,
     "metadata": {},
     "output_type": "execute_result"
    }
   ],
   "source": [
    "# Format the current date as ISO format\n",
    "Today = pd.Timestamp(\"2021-06-08\", tz = \"America/New_York\").isoformat()\n",
    "# Create Tickers\n",
    "Tickers = [\"AGG\", \"SPY\"]\n",
    "# Set Time Frame to 1D\n",
    "Timeframe = \"1D\"\n",
    "# Get stock information for the last 1000 days \n",
    "stock_portfolio = Alpaca.get_barset(Tickers, Timeframe, start=\"\", end=Today, limit=1000).df\n",
    "stock_portfolio.index = stock_portfolio.index.date\n",
    "stock_portfolio"
   ]
  },
  {
   "cell_type": "code",
   "execution_count": 19,
   "id": "68b39af1-e16b-4aab-971c-183267e51a4e",
   "metadata": {},
   "outputs": [],
   "source": [
    "# Get Closing prices for today\n",
    "stock_portfolio_today = Alpaca.get_barset(Tickers, Timeframe, start=Today, end=Today).df\n",
    "AGG_Close_Price = float(stock_portfolio_today[\"AGG\"][\"close\"])\n",
    "SPY_Close_Price = float(stock_portfolio_today[\"SPY\"][\"close\"])"
   ]
  },
  {
   "cell_type": "code",
   "execution_count": 20,
   "id": "4acd3e32-ac48-404a-ab21-ea854b855ba7",
   "metadata": {},
   "outputs": [
    {
     "name": "stdout",
     "output_type": "stream",
     "text": [
      "The current value of your 200 AGG holdings is 22964.0\n",
      "The current value of your 50 SPY holdings is 21113.5\n"
     ]
    }
   ],
   "source": [
    "# Your total value\n",
    "Total_AGG_Value = AGG_Close_Price * my_Agg\n",
    "Total_SPY_Value = SPY_Close_Price * my_Spy\n",
    "\n",
    "print(f\"The current value of your {my_Agg} AGG holdings is {Total_AGG_Value}\")\n",
    "print(f\"The current value of your {my_Spy} SPY holdings is {Total_SPY_Value}\")"
   ]
  },
  {
   "cell_type": "code",
   "execution_count": 21,
   "id": "3f6bb06a-fe40-45fc-8df7-1ecaa917b85e",
   "metadata": {},
   "outputs": [],
   "source": [
    "# Savings Health Analysis\n",
    "Household_Income = 12000\n",
    "Total_Crypto = My_BTC_Value + My_ETH_Value\n",
    "Total_Stock = Total_AGG_Value + Total_SPY_Value\n",
    "Amount = {'amount':[Total_Crypto, Total_Stock]}"
   ]
  },
  {
   "cell_type": "code",
   "execution_count": 22,
   "id": "8e0c824a-176b-454a-a5e1-b5a9a78f843a",
   "metadata": {},
   "outputs": [
    {
     "data": {
      "text/html": [
       "<div>\n",
       "<style scoped>\n",
       "    .dataframe tbody tr th:only-of-type {\n",
       "        vertical-align: middle;\n",
       "    }\n",
       "\n",
       "    .dataframe tbody tr th {\n",
       "        vertical-align: top;\n",
       "    }\n",
       "\n",
       "    .dataframe thead th {\n",
       "        text-align: right;\n",
       "    }\n",
       "</style>\n",
       "<table border=\"1\" class=\"dataframe\">\n",
       "  <thead>\n",
       "    <tr style=\"text-align: right;\">\n",
       "      <th></th>\n",
       "      <th>amount</th>\n",
       "    </tr>\n",
       "  </thead>\n",
       "  <tbody>\n",
       "    <tr>\n",
       "      <th>Crypto</th>\n",
       "      <td>68962.247547</td>\n",
       "    </tr>\n",
       "    <tr>\n",
       "      <th>Stock</th>\n",
       "      <td>44077.500000</td>\n",
       "    </tr>\n",
       "  </tbody>\n",
       "</table>\n",
       "</div>"
      ],
      "text/plain": [
       "              amount\n",
       "Crypto  68962.247547\n",
       "Stock   44077.500000"
      ]
     },
     "execution_count": 22,
     "metadata": {},
     "output_type": "execute_result"
    }
   ],
   "source": [
    "# Create Savings DataFrame\n",
    "My_Savings = pd.DataFrame(Amount, index = ['Crypto', 'Stock'])\n",
    "My_Savings"
   ]
  },
  {
   "cell_type": "code",
   "execution_count": 23,
   "id": "58d4aa74-02d7-4e45-be5a-3fad005c93f4",
   "metadata": {},
   "outputs": [
    {
     "data": {
      "text/plain": [
       "<AxesSubplot:title={'center':'Composition of Personal Savings'}, ylabel='amount'>"
      ]
     },
     "execution_count": 23,
     "metadata": {},
     "output_type": "execute_result"
    },
    {
     "data": {
      "image/png": "[encoded data removed]",
      "text/plain": [
       "<Figure size 432x288 with 1 Axes>"
      ]
     },
     "metadata": {},
     "output_type": "display_data"
    }
   ],
   "source": [
    "# Plot Savings Pie Chart\n",
    "My_Savings.plot.pie(title=\"Composition of Personal Savings\", y= \"amount\")"
   ]
  },
  {
   "cell_type": "code",
   "execution_count": 24,
   "id": "3940d5c3-ac99-4e77-b421-61cd71051f2a",
   "metadata": {},
   "outputs": [
    {
     "data": {
      "text/plain": [
       "113039.74754699999"
      ]
     },
     "execution_count": 24,
     "metadata": {},
     "output_type": "execute_result"
    }
   ],
   "source": [
    "# Set ideal emergency fund\n",
    "Emergency_Fund = Household_Income * 3\n",
    "\n",
    "#Calculate total amount of savings\n",
    "Total_Savings = Total_Crypto + Total_Stock\n",
    "Total_Savings"
   ]
  },
  {
   "cell_type": "code",
   "execution_count": 25,
   "id": "b95e5cef-c272-4ff3-8fd4-8da3bd6c9f5e",
   "metadata": {},
   "outputs": [
    {
     "name": "stdout",
     "output_type": "stream",
     "text": [
      "Congratulations! You have enough money in your emergency fund.\n"
     ]
    }
   ],
   "source": [
    "# Validate Saving Health\n",
    "\n",
    "if Emergency_Fund <= Total_Savings:\n",
    "    print(\"Congratulations! You have enough money in your emergency fund.\")\n",
    "elif Emergency_Fund > Total_Savings:\n",
    "    print(\"Unfortunately, you do not have enough money in your emergency fund\")"
   ]
  },
  {
   "cell_type": "code",
   "execution_count": 26,
   "id": "26beb89d-ef51-454a-9dc8-bbbe458e7afb",
   "metadata": {},
   "outputs": [],
   "source": [
    "# PART 2 - RETIREMENT PLANNING\n",
    "# Set start and end dates of five years back from today\n",
    "Start_Date = pd.Timestamp('2016-06-08', tz='America/New_York').isoformat()\n",
    "End_Date = pd.Timestamp('2021-06-08', tz='America/New_York').isoformat()"
   ]
  },
  {
   "cell_type": "code",
   "execution_count": 27,
   "id": "bd4ec535-d9e6-4a59-aa83-0ece18febf41",
   "metadata": {},
   "outputs": [
    {
     "data": {
      "text/html": [
       "<div>\n",
       "<style scoped>\n",
       "    .dataframe tbody tr th:only-of-type {\n",
       "        vertical-align: middle;\n",
       "    }\n",
       "\n",
       "    .dataframe tbody tr th {\n",
       "        vertical-align: top;\n",
       "    }\n",
       "\n",
       "    .dataframe thead tr th {\n",
       "        text-align: left;\n",
       "    }\n",
       "\n",
       "    .dataframe thead tr:last-of-type th {\n",
       "        text-align: right;\n",
       "    }\n",
       "</style>\n",
       "<table border=\"1\" class=\"dataframe\">\n",
       "  <thead>\n",
       "    <tr>\n",
       "      <th></th>\n",
       "      <th colspan=\"5\" halign=\"left\">AGG</th>\n",
       "      <th colspan=\"5\" halign=\"left\">SPY</th>\n",
       "    </tr>\n",
       "    <tr>\n",
       "      <th></th>\n",
       "      <th>open</th>\n",
       "      <th>high</th>\n",
       "      <th>low</th>\n",
       "      <th>close</th>\n",
       "      <th>volume</th>\n",
       "      <th>open</th>\n",
       "      <th>high</th>\n",
       "      <th>low</th>\n",
       "      <th>close</th>\n",
       "      <th>volume</th>\n",
       "    </tr>\n",
       "    <tr>\n",
       "      <th>time</th>\n",
       "      <th></th>\n",
       "      <th></th>\n",
       "      <th></th>\n",
       "      <th></th>\n",
       "      <th></th>\n",
       "      <th></th>\n",
       "      <th></th>\n",
       "      <th></th>\n",
       "      <th></th>\n",
       "      <th></th>\n",
       "    </tr>\n",
       "  </thead>\n",
       "  <tbody>\n",
       "    <tr>\n",
       "      <th>2017-06-16 00:00:00-04:00</th>\n",
       "      <td>109.86</td>\n",
       "      <td>109.9700</td>\n",
       "      <td>109.85</td>\n",
       "      <td>109.945</td>\n",
       "      <td>1709677.0</td>\n",
       "      <td>NaN</td>\n",
       "      <td>NaN</td>\n",
       "      <td>NaN</td>\n",
       "      <td>NaN</td>\n",
       "      <td>NaN</td>\n",
       "    </tr>\n",
       "    <tr>\n",
       "      <th>2017-06-19 00:00:00-04:00</th>\n",
       "      <td>109.87</td>\n",
       "      <td>109.9000</td>\n",
       "      <td>109.74</td>\n",
       "      <td>109.790</td>\n",
       "      <td>1375531.0</td>\n",
       "      <td>243.59</td>\n",
       "      <td>244.73</td>\n",
       "      <td>243.48</td>\n",
       "      <td>244.64</td>\n",
       "      <td>42503652.0</td>\n",
       "    </tr>\n",
       "    <tr>\n",
       "      <th>2017-06-20 00:00:00-04:00</th>\n",
       "      <td>109.85</td>\n",
       "      <td>110.0300</td>\n",
       "      <td>109.80</td>\n",
       "      <td>109.975</td>\n",
       "      <td>2010628.0</td>\n",
       "      <td>244.25</td>\n",
       "      <td>244.26</td>\n",
       "      <td>242.99</td>\n",
       "      <td>243.04</td>\n",
       "      <td>39203167.0</td>\n",
       "    </tr>\n",
       "    <tr>\n",
       "      <th>2017-06-21 00:00:00-04:00</th>\n",
       "      <td>109.88</td>\n",
       "      <td>110.0400</td>\n",
       "      <td>109.88</td>\n",
       "      <td>109.980</td>\n",
       "      <td>1085301.0</td>\n",
       "      <td>243.43</td>\n",
       "      <td>243.59</td>\n",
       "      <td>242.41</td>\n",
       "      <td>242.95</td>\n",
       "      <td>42746920.0</td>\n",
       "    </tr>\n",
       "    <tr>\n",
       "      <th>2017-06-22 00:00:00-04:00</th>\n",
       "      <td>110.06</td>\n",
       "      <td>110.0947</td>\n",
       "      <td>109.95</td>\n",
       "      <td>110.050</td>\n",
       "      <td>1295361.0</td>\n",
       "      <td>242.97</td>\n",
       "      <td>243.53</td>\n",
       "      <td>242.64</td>\n",
       "      <td>242.83</td>\n",
       "      <td>32991335.0</td>\n",
       "    </tr>\n",
       "  </tbody>\n",
       "</table>\n",
       "</div>"
      ],
      "text/plain": [
       "                              AGG                                        \\\n",
       "                             open      high     low    close     volume   \n",
       "time                                                                      \n",
       "2017-06-16 00:00:00-04:00  109.86  109.9700  109.85  109.945  1709677.0   \n",
       "2017-06-19 00:00:00-04:00  109.87  109.9000  109.74  109.790  1375531.0   \n",
       "2017-06-20 00:00:00-04:00  109.85  110.0300  109.80  109.975  2010628.0   \n",
       "2017-06-21 00:00:00-04:00  109.88  110.0400  109.88  109.980  1085301.0   \n",
       "2017-06-22 00:00:00-04:00  110.06  110.0947  109.95  110.050  1295361.0   \n",
       "\n",
       "                              SPY                                      \n",
       "                             open    high     low   close      volume  \n",
       "time                                                                   \n",
       "2017-06-16 00:00:00-04:00     NaN     NaN     NaN     NaN         NaN  \n",
       "2017-06-19 00:00:00-04:00  243.59  244.73  243.48  244.64  42503652.0  \n",
       "2017-06-20 00:00:00-04:00  244.25  244.26  242.99  243.04  39203167.0  \n",
       "2017-06-21 00:00:00-04:00  243.43  243.59  242.41  242.95  42746920.0  \n",
       "2017-06-22 00:00:00-04:00  242.97  243.53  242.64  242.83  32991335.0  "
      ]
     },
     "execution_count": 27,
     "metadata": {},
     "output_type": "execute_result"
    }
   ],
   "source": [
    "# Get 5 years' worth of historical data for SPY and AGG\n",
    "# Use limit=1000\n",
    "\n",
    "Tickers = [\"SPY\", \"AGG\"]\n",
    "Stock_Data = Alpaca.get_barset(Tickers, Timeframe, start=Start_Date, end=End_Date, limit=1000).df\n",
    "Stock_Data.head()"
   ]
  },
  {
   "cell_type": "code",
   "execution_count": 28,
   "id": "2592aebc-9752-46ab-ab53-81563399d39e",
   "metadata": {},
   "outputs": [
    {
     "data": {
      "text/html": [
       "<div>\n",
       "<style scoped>\n",
       "    .dataframe tbody tr th:only-of-type {\n",
       "        vertical-align: middle;\n",
       "    }\n",
       "\n",
       "    .dataframe tbody tr th {\n",
       "        vertical-align: top;\n",
       "    }\n",
       "\n",
       "    .dataframe thead tr th {\n",
       "        text-align: left;\n",
       "    }\n",
       "</style>\n",
       "<table border=\"1\" class=\"dataframe\">\n",
       "  <thead>\n",
       "    <tr>\n",
       "      <th></th>\n",
       "      <th colspan=\"5\" halign=\"left\">AGG</th>\n",
       "      <th colspan=\"5\" halign=\"left\">SPY</th>\n",
       "    </tr>\n",
       "    <tr>\n",
       "      <th></th>\n",
       "      <th>open</th>\n",
       "      <th>high</th>\n",
       "      <th>low</th>\n",
       "      <th>close</th>\n",
       "      <th>volume</th>\n",
       "      <th>open</th>\n",
       "      <th>high</th>\n",
       "      <th>low</th>\n",
       "      <th>close</th>\n",
       "      <th>volume</th>\n",
       "    </tr>\n",
       "  </thead>\n",
       "  <tbody>\n",
       "    <tr>\n",
       "      <th>2017-06-16</th>\n",
       "      <td>109.86</td>\n",
       "      <td>109.9700</td>\n",
       "      <td>109.85</td>\n",
       "      <td>109.945</td>\n",
       "      <td>1709677.0</td>\n",
       "      <td>NaN</td>\n",
       "      <td>NaN</td>\n",
       "      <td>NaN</td>\n",
       "      <td>NaN</td>\n",
       "      <td>NaN</td>\n",
       "    </tr>\n",
       "    <tr>\n",
       "      <th>2017-06-19</th>\n",
       "      <td>109.87</td>\n",
       "      <td>109.9000</td>\n",
       "      <td>109.74</td>\n",
       "      <td>109.790</td>\n",
       "      <td>1375531.0</td>\n",
       "      <td>243.59</td>\n",
       "      <td>244.73</td>\n",
       "      <td>243.48</td>\n",
       "      <td>244.64</td>\n",
       "      <td>42503652.0</td>\n",
       "    </tr>\n",
       "    <tr>\n",
       "      <th>2017-06-20</th>\n",
       "      <td>109.85</td>\n",
       "      <td>110.0300</td>\n",
       "      <td>109.80</td>\n",
       "      <td>109.975</td>\n",
       "      <td>2010628.0</td>\n",
       "      <td>244.25</td>\n",
       "      <td>244.26</td>\n",
       "      <td>242.99</td>\n",
       "      <td>243.04</td>\n",
       "      <td>39203167.0</td>\n",
       "    </tr>\n",
       "    <tr>\n",
       "      <th>2017-06-21</th>\n",
       "      <td>109.88</td>\n",
       "      <td>110.0400</td>\n",
       "      <td>109.88</td>\n",
       "      <td>109.980</td>\n",
       "      <td>1085301.0</td>\n",
       "      <td>243.43</td>\n",
       "      <td>243.59</td>\n",
       "      <td>242.41</td>\n",
       "      <td>242.95</td>\n",
       "      <td>42746920.0</td>\n",
       "    </tr>\n",
       "    <tr>\n",
       "      <th>2017-06-22</th>\n",
       "      <td>110.06</td>\n",
       "      <td>110.0947</td>\n",
       "      <td>109.95</td>\n",
       "      <td>110.050</td>\n",
       "      <td>1295361.0</td>\n",
       "      <td>242.97</td>\n",
       "      <td>243.53</td>\n",
       "      <td>242.64</td>\n",
       "      <td>242.83</td>\n",
       "      <td>32991335.0</td>\n",
       "    </tr>\n",
       "  </tbody>\n",
       "</table>\n",
       "</div>"
      ],
      "text/plain": [
       "               AGG                                           SPY          \\\n",
       "              open      high     low    close     volume    open    high   \n",
       "2017-06-16  109.86  109.9700  109.85  109.945  1709677.0     NaN     NaN   \n",
       "2017-06-19  109.87  109.9000  109.74  109.790  1375531.0  243.59  244.73   \n",
       "2017-06-20  109.85  110.0300  109.80  109.975  2010628.0  244.25  244.26   \n",
       "2017-06-21  109.88  110.0400  109.88  109.980  1085301.0  243.43  243.59   \n",
       "2017-06-22  110.06  110.0947  109.95  110.050  1295361.0  242.97  243.53   \n",
       "\n",
       "                                        \n",
       "               low   close      volume  \n",
       "2017-06-16     NaN     NaN         NaN  \n",
       "2017-06-19  243.48  244.64  42503652.0  \n",
       "2017-06-20  242.99  243.04  39203167.0  \n",
       "2017-06-21  242.41  242.95  42746920.0  \n",
       "2017-06-22  242.64  242.83  32991335.0  "
      ]
     },
     "execution_count": 28,
     "metadata": {},
     "output_type": "execute_result"
    }
   ],
   "source": [
    "# Drop the time and just show date\n",
    "Stock_Data.index = Stock_Data.index.date\n",
    "Stock_Data.head()"
   ]
  },
  {
   "cell_type": "code",
   "execution_count": 29,
   "id": "c8a4ef5f-7a34-40ee-bdc1-db5f8f1a0b29",
   "metadata": {},
   "outputs": [
    {
     "data": {
      "text/plain": [
       "7560"
      ]
     },
     "execution_count": 29,
     "metadata": {},
     "output_type": "execute_result"
    }
   ],
   "source": [
    "weights = [0.4,0.6]\n",
    "num_simulation = 500\n",
    "Years = 30\n",
    "Number_Trading_Days_Per_Year = 252\n",
    "num_trading_days = Number_Trading_Days_Per_Year*Years\n",
    "num_trading_days"
   ]
  },
  {
   "cell_type": "code",
   "execution_count": 30,
   "id": "a3c1c5ef-932b-40c8-9faa-b8d8c6b138e2",
   "metadata": {},
   "outputs": [],
   "source": [
    "# Monte Carlo Simulation to forecast 30 years cumulative returns\n",
    "\n",
    "Monte_Carlo_Sim30 = MCSimulation(portfolio_data = Stock_Data, weights=[0.4,0.6], num_trading_days = 7560, num_simulation = 500)"
   ]
  },
  {
   "cell_type": "code",
   "execution_count": 31,
   "id": "9d566eaa-cd3d-41f0-a903-3c8121a5c1d4",
   "metadata": {},
   "outputs": [
    {
     "data": {
      "text/html": [
       "<div>\n",
       "<style scoped>\n",
       "    .dataframe tbody tr th:only-of-type {\n",
       "        vertical-align: middle;\n",
       "    }\n",
       "\n",
       "    .dataframe tbody tr th {\n",
       "        vertical-align: top;\n",
       "    }\n",
       "\n",
       "    .dataframe thead tr th {\n",
       "        text-align: left;\n",
       "    }\n",
       "</style>\n",
       "<table border=\"1\" class=\"dataframe\">\n",
       "  <thead>\n",
       "    <tr>\n",
       "      <th></th>\n",
       "      <th colspan=\"6\" halign=\"left\">AGG</th>\n",
       "      <th colspan=\"6\" halign=\"left\">SPY</th>\n",
       "    </tr>\n",
       "    <tr>\n",
       "      <th></th>\n",
       "      <th>open</th>\n",
       "      <th>high</th>\n",
       "      <th>low</th>\n",
       "      <th>close</th>\n",
       "      <th>volume</th>\n",
       "      <th>daily_return</th>\n",
       "      <th>open</th>\n",
       "      <th>high</th>\n",
       "      <th>low</th>\n",
       "      <th>close</th>\n",
       "      <th>volume</th>\n",
       "      <th>daily_return</th>\n",
       "    </tr>\n",
       "  </thead>\n",
       "  <tbody>\n",
       "    <tr>\n",
       "      <th>2017-06-16</th>\n",
       "      <td>109.86</td>\n",
       "      <td>109.9700</td>\n",
       "      <td>109.85</td>\n",
       "      <td>109.945</td>\n",
       "      <td>1709677.0</td>\n",
       "      <td>NaN</td>\n",
       "      <td>NaN</td>\n",
       "      <td>NaN</td>\n",
       "      <td>NaN</td>\n",
       "      <td>NaN</td>\n",
       "      <td>NaN</td>\n",
       "      <td>NaN</td>\n",
       "    </tr>\n",
       "    <tr>\n",
       "      <th>2017-06-19</th>\n",
       "      <td>109.87</td>\n",
       "      <td>109.9000</td>\n",
       "      <td>109.74</td>\n",
       "      <td>109.790</td>\n",
       "      <td>1375531.0</td>\n",
       "      <td>-0.001410</td>\n",
       "      <td>243.59</td>\n",
       "      <td>244.73</td>\n",
       "      <td>243.48</td>\n",
       "      <td>244.64</td>\n",
       "      <td>42503652.0</td>\n",
       "      <td>NaN</td>\n",
       "    </tr>\n",
       "    <tr>\n",
       "      <th>2017-06-20</th>\n",
       "      <td>109.85</td>\n",
       "      <td>110.0300</td>\n",
       "      <td>109.80</td>\n",
       "      <td>109.975</td>\n",
       "      <td>2010628.0</td>\n",
       "      <td>0.001685</td>\n",
       "      <td>244.25</td>\n",
       "      <td>244.26</td>\n",
       "      <td>242.99</td>\n",
       "      <td>243.04</td>\n",
       "      <td>39203167.0</td>\n",
       "      <td>-0.006540</td>\n",
       "    </tr>\n",
       "    <tr>\n",
       "      <th>2017-06-21</th>\n",
       "      <td>109.88</td>\n",
       "      <td>110.0400</td>\n",
       "      <td>109.88</td>\n",
       "      <td>109.980</td>\n",
       "      <td>1085301.0</td>\n",
       "      <td>0.000045</td>\n",
       "      <td>243.43</td>\n",
       "      <td>243.59</td>\n",
       "      <td>242.41</td>\n",
       "      <td>242.95</td>\n",
       "      <td>42746920.0</td>\n",
       "      <td>-0.000370</td>\n",
       "    </tr>\n",
       "    <tr>\n",
       "      <th>2017-06-22</th>\n",
       "      <td>110.06</td>\n",
       "      <td>110.0947</td>\n",
       "      <td>109.95</td>\n",
       "      <td>110.050</td>\n",
       "      <td>1295361.0</td>\n",
       "      <td>0.000636</td>\n",
       "      <td>242.97</td>\n",
       "      <td>243.53</td>\n",
       "      <td>242.64</td>\n",
       "      <td>242.83</td>\n",
       "      <td>32991335.0</td>\n",
       "      <td>-0.000494</td>\n",
       "    </tr>\n",
       "  </tbody>\n",
       "</table>\n",
       "</div>"
      ],
      "text/plain": [
       "               AGG                                                        SPY  \\\n",
       "              open      high     low    close     volume daily_return    open   \n",
       "2017-06-16  109.86  109.9700  109.85  109.945  1709677.0          NaN     NaN   \n",
       "2017-06-19  109.87  109.9000  109.74  109.790  1375531.0    -0.001410  243.59   \n",
       "2017-06-20  109.85  110.0300  109.80  109.975  2010628.0     0.001685  244.25   \n",
       "2017-06-21  109.88  110.0400  109.88  109.980  1085301.0     0.000045  243.43   \n",
       "2017-06-22  110.06  110.0947  109.95  110.050  1295361.0     0.000636  242.97   \n",
       "\n",
       "                                                             \n",
       "              high     low   close      volume daily_return  \n",
       "2017-06-16     NaN     NaN     NaN         NaN          NaN  \n",
       "2017-06-19  244.73  243.48  244.64  42503652.0          NaN  \n",
       "2017-06-20  244.26  242.99  243.04  39203167.0    -0.006540  \n",
       "2017-06-21  243.59  242.41  242.95  42746920.0    -0.000370  \n",
       "2017-06-22  243.53  242.64  242.83  32991335.0    -0.000494  "
      ]
     },
     "execution_count": 31,
     "metadata": {},
     "output_type": "execute_result"
    }
   ],
   "source": [
    "Monte_Carlo_Sim30.portfolio_data.head()"
   ]
  },
  {
   "cell_type": "code",
   "execution_count": null,
   "id": "9f914297-3a7f-42c7-a174-33c1ad0d6a7f",
   "metadata": {},
   "outputs": [
    {
     "name": "stdout",
     "output_type": "stream",
     "text": [
      "Running Monte Carlo simulation number 0.\n",
      "Running Monte Carlo simulation number 10.\n",
      "Running Monte Carlo simulation number 20.\n",
      "Running Monte Carlo simulation number 30.\n",
      "Running Monte Carlo simulation number 40.\n",
      "Running Monte Carlo simulation number 50.\n",
      "Running Monte Carlo simulation number 60.\n",
      "Running Monte Carlo simulation number 70.\n",
      "Running Monte Carlo simulation number 80.\n",
      "Running Monte Carlo simulation number 90.\n",
      "Running Monte Carlo simulation number 100.\n",
      "Running Monte Carlo simulation number 110.\n",
      "Running Monte Carlo simulation number 120.\n",
      "Running Monte Carlo simulation number 130.\n",
      "Running Monte Carlo simulation number 140.\n",
      "Running Monte Carlo simulation number 150.\n",
      "Running Monte Carlo simulation number 160.\n",
      "Running Monte Carlo simulation number 170.\n",
      "Running Monte Carlo simulation number 180.\n",
      "Running Monte Carlo simulation number 190.\n",
      "Running Monte Carlo simulation number 200.\n",
      "Running Monte Carlo simulation number 210.\n",
      "Running Monte Carlo simulation number 220.\n",
      "Running Monte Carlo simulation number 230.\n",
      "Running Monte Carlo simulation number 240.\n",
      "Running Monte Carlo simulation number 250.\n",
      "Running Monte Carlo simulation number 260.\n",
      "Running Monte Carlo simulation number 270.\n",
      "Running Monte Carlo simulation number 280.\n",
      "Running Monte Carlo simulation number 290.\n",
      "Running Monte Carlo simulation number 300.\n"
     ]
    }
   ],
   "source": [
    "Monte_Carlo_Sim30.calc_cumulative_return()"
   ]
  },
  {
   "cell_type": "code",
   "execution_count": null,
   "id": "4c4b2356-57aa-4006-8dc0-9e04faa1f1c4",
   "metadata": {},
   "outputs": [],
   "source": [
    "#plot simulation outcomes\n",
    "line_plot = Monte_Carlo_Sim30.plot_simulation()"
   ]
  },
  {
   "cell_type": "code",
   "execution_count": null,
   "id": "75741825-bd2d-49df-ba9b-61b81f8b8c5e",
   "metadata": {},
   "outputs": [],
   "source": [
    "# Plot probability distribution and confidence intervals\n",
    "dist_plot = Monte_Carlo_Sim30.plot_distribution()"
   ]
  },
  {
   "cell_type": "code",
   "execution_count": null,
   "id": "6e97e686-d278-4bc3-8aa9-d20487bde6fd",
   "metadata": {},
   "outputs": [],
   "source": [
    "#Fetch summary statistics from the Monte Carlo simulation results\n",
    "Sum_Stat = Monte_Carlo_Sim30.summarize_cumulative_return()\n",
    "print(Sum_Stat)"
   ]
  },
  {
   "cell_type": "code",
   "execution_count": null,
   "id": "416dcb33-7ec1-4c92-b700-5626b2bfd0df",
   "metadata": {},
   "outputs": [],
   "source": [
    "# Set an initial investment of 20,000\n",
    "Initial_Investment = 20000\n",
    "\n",
    "# Use the lower and upper `95%` confidence intervals to calculate the range of the possible outcomes of our $20,000\n",
    "\n",
    "Lower_Confidence_Interval = round(Sum_Stat[8]*20000,2)\n",
    "Upper_Confidence_Interval = round(Sum_Stat[9]*20000,2)"
   ]
  },
  {
   "cell_type": "code",
   "execution_count": null,
   "id": "ffcf65c1-8c00-4471-a40d-f84623daee23",
   "metadata": {},
   "outputs": [],
   "source": [
    "# Print Results\n",
    "print(f\"There is a 95% chance that an initial investment of ${Initial_Investment} in the portfolio\"\n",
    "      f\" over the next 30 years will end within in the range of\"\n",
    "      f\" ${Lower_Confidence_Interval} and ${Upper_Confidence_Interval}\")"
   ]
  },
  {
   "cell_type": "code",
   "execution_count": null,
   "id": "6f0421ff-0e45-4a35-b220-e2d2d7e044c2",
   "metadata": {},
   "outputs": [],
   "source": [
    "# Calculate the expected portfolio return at the 95% lower and upper confidence intervals based \n",
    "#on a 50% increase in the initial investment."
   ]
  },
  {
   "cell_type": "code",
   "execution_count": null,
   "id": "cd71ed36-24e5-431a-88cb-819d1057e3ad",
   "metadata": {},
   "outputs": [],
   "source": [
    "initial_investment = 20000*1.5\n",
    "initial_investment"
   ]
  },
  {
   "cell_type": "code",
   "execution_count": null,
   "id": "06c633ad-de3b-4e33-a252-370a0fb788a7",
   "metadata": {},
   "outputs": [],
   "source": [
    "# Use the lower and upper `95%` confidence intervals to calculate the range of the possible outcomes of our $30,000\n",
    "Lower_Confidence_Interval30 = round(Sum_Stat[8]*30000,2)\n",
    "Upper_Confidence_Interval30 = round(Sum_Stat[9]*30000,2)\n",
    "\n",
    "# Print Results\n",
    "print(f\"There is a 95% chance that an initial investment of ${initial_investment} in the portfolio\"\n",
    "      f\" over the next 30 years will end within in the range of\"\n",
    "      f\" ${Lower_Confidence_Interval30} and ${Upper_Confidence_Interval30}\")"
   ]
  },
  {
   "cell_type": "code",
   "execution_count": null,
   "id": "37c74c1f-2529-4bc7-929a-885b9f162079",
   "metadata": {},
   "outputs": [],
   "source": [
    "Results = open(\"results.txt\", 'w')"
   ]
  },
  {
   "cell_type": "code",
   "execution_count": null,
   "id": "0c134c95-0648-45f9-9aa9-815e57b434c4",
   "metadata": {},
   "outputs": [],
   "source": [
    "Results.write(f\"Portfolio Analysis\\n\")\n",
    "Results.write(f\"--------------------\\n\")\n",
    "Results.write(f\"The current value of your {My_BTC} BTC holdings is {My_BTC_Value}\\n\")\n",
    "Results.write(f\"The current value of your {My_ETH} ETH holdings is {My_ETH_Value}\\n\")\n",
    "Results.write(f\"The current value of your {my_Agg} AGG holdings is {Total_AGG_Value}\\n\")\n",
    "Results.write(f\"The current value of your {my_Spy} SPY holdings is {Total_SPY_Value}\\n\")\n",
    "Results.write(f\"The total value of your holdings is {Total_Savings}\\n\")\n",
    "Results.write(f\"There is a 95% chance that an initial investment of ${Initial_Investment} in the portfolio over the next 30 years will end within in the range of ${Lower_Confidence_Interval} and ${Upper_Confidence_Interval}\")\n"
   ]
  },
  {
   "cell_type": "code",
   "execution_count": null,
   "id": "402608f2-2eb3-4ab9-81f0-4e9d34177d9d",
   "metadata": {},
   "outputs": [],
   "source": [
    "Results.close()"
   ]
  },
  {
   "cell_type": "code",
   "execution_count": null,
   "id": "04ebadeb-47bf-4454-a2d3-775dbec2183b",
   "metadata": {},
   "outputs": [],
   "source": []
  }
 ],
 "metadata": {
  "kernelspec": {
   "display_name": "Python 3",
   "language": "python",
   "name": "python3"
  },
  "language_info": {
   "codemirror_mode": {
    "name": "ipython",
    "version": 3
   },
   "file_extension": ".py",
   "mimetype": "text/x-python",
   "name": "python",
   "nbconvert_exporter": "python",
   "pygments_lexer": "ipython3",
   "version": "3.8.5"
  }
 },
 "nbformat": 4,
 "nbformat_minor": 5
}
