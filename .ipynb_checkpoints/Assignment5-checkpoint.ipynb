{
 "cells": [
  {
   "cell_type": "code",
   "execution_count": 250,
   "id": "d563a79d-b616-4912-9f29-e6f4ef9cbf3d",
   "metadata": {},
   "outputs": [],
   "source": [
    "import os\n",
    "import requests\n",
    "import pandas as pd\n",
    "from dotenv import load_dotenv\n",
    "import alpaca_trade_api as tradeapi\n",
    "from MCForecastTools import MCSimulation\n",
    "%matplotlib inline"
   ]
  },
  {
   "cell_type": "code",
   "execution_count": 251,
   "id": "6e3fbabb-739e-4d74-9fde-7b811f143c49",
   "metadata": {},
   "outputs": [
    {
     "data": {
      "text/plain": [
       "True"
      ]
     },
     "execution_count": 251,
     "metadata": {},
     "output_type": "execute_result"
    }
   ],
   "source": [
    "load_dotenv()"
   ]
  },
  {
   "cell_type": "code",
   "execution_count": 252,
   "id": "210f02d9-3ef8-40c3-81cb-a58a9d636d50",
   "metadata": {},
   "outputs": [],
   "source": [
    "# Set current amoung of crypto assets\n",
    "My_BTC = 1.2\n",
    "My_ETH = 5.3"
   ]
  },
  {
   "cell_type": "code",
   "execution_count": 253,
   "id": "89c63a11-161b-421a-bd7c-e60cb83b990b",
   "metadata": {},
   "outputs": [],
   "source": [
    "# Crypto API URLs\n",
    "btc_url = \"https://api.alternative.me/v2/ticker/Bitcoin/?convert=CAD\"\n",
    "eth_url = \"https://api.alternative.me/v2/ticker/Ethereum/?convert=CAD\""
   ]
  },
  {
   "cell_type": "code",
   "execution_count": 254,
   "id": "9bbbc95c-1abd-41ae-91cc-ab59a12a4eff",
   "metadata": {},
   "outputs": [
    {
     "data": {
      "text/plain": [
       "b'{\\n\\t\"data\": {\\n\\t\\t\"1\": {\\n\\t\\t\\t\"id\": 1,\\n\\t\\t\\t\"name\": \"Bitcoin\",\\n\\t\\t\\t\"symbol\": \"BTC\",\\n\\t\\t\\t\"website_slug\": \"bitcoin\",\\n\\t\\t\\t\"rank\": 1,\\n\\t\\t\\t\"circulating_supply\": 18731750,\\n\\t\\t\\t\"total_supply\": 18731750,\\n\\t\\t\\t\"max_supply\": 21000000,\\n\\t\\t\\t\"quotes\": {\\n\\t\\t\\t\\t\"USD\": {\\n\\t\\t\\t\\t\\t\"price\": 36533.0000000000000000,\\n\\t\\t\\t\\t\\t\"volume_24h\": 45693629937,\\n\\t\\t\\t\\t\\t\"market_cap\": 687580987647,\\n\\t\\t\\t\\t\\t\"percentage_change_1h\": -1.0273157916188400,\\n\\t\\t\\t\\t\\t\"percentage_change_24h\": 0.1071652406840840,\\n\\t\\t\\t\\t\\t\"percentage_change_7d\": -3.0583091961149300,\\n\\t\\t\\t\\t\\t\"percent_change_1h\": -1.0273157916188400,\\n\\t\\t\\t\\t\\t\"percent_change_24h\": 0.1071652406840840,\\n\\t\\t\\t\\t\\t\"percent_change_7d\": -3.0583091961149300\\n\\t\\t\\t\\t},\\n\\t\\t\\t\\t\"CAD\": {\\n\\t\\t\\t\\t\\t\"price\": 44161.0904,\\n\\t\\t\\t\\t\\t\"volume_24h\": 55234459867.8456,\\n\\t\\t\\t\\t\\t\"market_cap\": 831147897867.693,\\n\\t\\t\\t\\t\\t\"percent_change_1h\": -1.0273157916188400,\\n\\t\\t\\t\\t\\t\"percent_change_24h\": 0.1071652406840840,\\n\\t\\t\\t\\t\\t\"percent_change_7d\": -3.0583091961149300\\n\\t\\t\\t\\t}\\n\\t\\t\\t},\\n\\t\\t\\t\"last_updated\": 1623346755\\n\\t\\t}\\n\\t},\\n\\t\"metadata\": {\\n\\t\\t\"timestamp\": 1623346755,\\n\\t\\t\"num_cryptocurrencies\": 1292,\\n\\t\\t\"error\": null\\n\\t}\\n}'"
      ]
     },
     "execution_count": 254,
     "metadata": {},
     "output_type": "execute_result"
    }
   ],
   "source": [
    "# Fetch Current BTC Price\n",
    "BTC_Price = requests.get(btc_url)\n",
    "BTC_Price\n",
    "Response_BTC_Price = BTC_Price.content\n",
    "Response_BTC_Price\n"
   ]
  },
  {
   "cell_type": "code",
   "execution_count": 255,
   "id": "de37cd32-83cb-44ac-8f72-bce722871a5f",
   "metadata": {},
   "outputs": [
    {
     "data": {
      "text/plain": [
       "{'data': {'1': {'id': 1,\n",
       "   'name': 'Bitcoin',\n",
       "   'symbol': 'BTC',\n",
       "   'website_slug': 'bitcoin',\n",
       "   'rank': 1,\n",
       "   'circulating_supply': 18731750,\n",
       "   'total_supply': 18731750,\n",
       "   'max_supply': 21000000,\n",
       "   'quotes': {'USD': {'price': 36533.0,\n",
       "     'volume_24h': 45693629937,\n",
       "     'market_cap': 687580987647,\n",
       "     'percentage_change_1h': -1.02731579161884,\n",
       "     'percentage_change_24h': 0.107165240684084,\n",
       "     'percentage_change_7d': -3.05830919611493,\n",
       "     'percent_change_1h': -1.02731579161884,\n",
       "     'percent_change_24h': 0.107165240684084,\n",
       "     'percent_change_7d': -3.05830919611493},\n",
       "    'CAD': {'price': 44161.0904,\n",
       "     'volume_24h': 55234459867.8456,\n",
       "     'market_cap': 831147897867.693,\n",
       "     'percent_change_1h': -1.02731579161884,\n",
       "     'percent_change_24h': 0.107165240684084,\n",
       "     'percent_change_7d': -3.05830919611493}},\n",
       "   'last_updated': 1623346755}},\n",
       " 'metadata': {'timestamp': 1623346755,\n",
       "  'num_cryptocurrencies': 1292,\n",
       "  'error': None}}"
      ]
     },
     "execution_count": 255,
     "metadata": {},
     "output_type": "execute_result"
    }
   ],
   "source": [
    "import json\n",
    "BTC_Data = json.loads(Response_BTC_Price.decode('utf-8'))\n",
    "BTC_Data\n"
   ]
  },
  {
   "cell_type": "code",
   "execution_count": 256,
   "id": "dbdce0ee-5de6-42e2-b2d9-a463f5a33e13",
   "metadata": {},
   "outputs": [
    {
     "data": {
      "text/plain": [
       "44161.0904"
      ]
     },
     "execution_count": 256,
     "metadata": {},
     "output_type": "execute_result"
    }
   ],
   "source": [
    "Current_BTC_Value = BTC_Data[\"data\"][\"1\"][\"quotes\"][\"CAD\"][\"price\"]\n",
    "Current_BTC_Value"
   ]
  },
  {
   "cell_type": "code",
   "execution_count": 257,
   "id": "623a3f82-07f8-422b-8e41-fdc27f91ef87",
   "metadata": {},
   "outputs": [
    {
     "data": {
      "text/plain": [
       "b'{\\n\\t\"data\": {\\n\\t\\t\"1027\": {\\n\\t\\t\\t\"id\": 1027,\\n\\t\\t\\t\"name\": \"Ethereum\",\\n\\t\\t\\t\"symbol\": \"ETH\",\\n\\t\\t\\t\"website_slug\": \"ethereum\",\\n\\t\\t\\t\"rank\": 2,\\n\\t\\t\\t\"circulating_supply\": 116236274,\\n\\t\\t\\t\"total_supply\": 116236274,\\n\\t\\t\\t\"max_supply\": 0,\\n\\t\\t\\t\"quotes\": {\\n\\t\\t\\t\\t\"USD\": {\\n\\t\\t\\t\\t\\t\"price\": 2468.5800000000000000,\\n\\t\\t\\t\\t\\t\"volume_24h\": 34251056546,\\n\\t\\t\\t\\t\\t\"market_cap\": 287472433015,\\n\\t\\t\\t\\t\\t\"percentage_change_1h\": -1.0724131616307400,\\n\\t\\t\\t\\t\\t\"percentage_change_24h\": -4.7476066895900800,\\n\\t\\t\\t\\t\\t\"percentage_change_7d\": -9.1482696638480700,\\n\\t\\t\\t\\t\\t\"percent_change_1h\": -1.0724131616307400,\\n\\t\\t\\t\\t\\t\"percent_change_24h\": -4.7476066895900800,\\n\\t\\t\\t\\t\\t\"percent_change_7d\": -9.1482696638480700\\n\\t\\t\\t\\t},\\n\\t\\t\\t\\t\"CAD\": {\\n\\t\\t\\t\\t\\t\"price\": 2984.019504,\\n\\t\\t\\t\\t\\t\"volume_24h\": 41402677152.8048,\\n\\t\\t\\t\\t\\t\"market_cap\": 347496677028.532,\\n\\t\\t\\t\\t\\t\"percent_change_1h\": -1.0724131616307400,\\n\\t\\t\\t\\t\\t\"percent_change_24h\": -4.7476066895900800,\\n\\t\\t\\t\\t\\t\"percent_change_7d\": -9.1482696638480700\\n\\t\\t\\t\\t}\\n\\t\\t\\t},\\n\\t\\t\\t\"last_updated\": 1623346749\\n\\t\\t}\\n\\t},\\n\\t\"metadata\": {\\n\\t\\t\"timestamp\": 1623346749,\\n\\t\\t\"num_cryptocurrencies\": 1292,\\n\\t\\t\"error\": null\\n\\t}\\n}'"
      ]
     },
     "execution_count": 257,
     "metadata": {},
     "output_type": "execute_result"
    }
   ],
   "source": [
    "# Fetch Current ETH Price\n",
    "ETH_Price = requests.get(eth_url)\n",
    "ETH_Price\n",
    "Response_ETH_Price = ETH_Price.content\n",
    "Response_ETH_Price"
   ]
  },
  {
   "cell_type": "code",
   "execution_count": 258,
   "id": "28ff1746-9872-409a-b191-2e18aaf9deaf",
   "metadata": {},
   "outputs": [
    {
     "data": {
      "text/plain": [
       "{'data': {'1027': {'id': 1027,\n",
       "   'name': 'Ethereum',\n",
       "   'symbol': 'ETH',\n",
       "   'website_slug': 'ethereum',\n",
       "   'rank': 2,\n",
       "   'circulating_supply': 116236274,\n",
       "   'total_supply': 116236274,\n",
       "   'max_supply': 0,\n",
       "   'quotes': {'USD': {'price': 2468.58,\n",
       "     'volume_24h': 34251056546,\n",
       "     'market_cap': 287472433015,\n",
       "     'percentage_change_1h': -1.07241316163074,\n",
       "     'percentage_change_24h': -4.74760668959008,\n",
       "     'percentage_change_7d': -9.14826966384807,\n",
       "     'percent_change_1h': -1.07241316163074,\n",
       "     'percent_change_24h': -4.74760668959008,\n",
       "     'percent_change_7d': -9.14826966384807},\n",
       "    'CAD': {'price': 2984.019504,\n",
       "     'volume_24h': 41402677152.8048,\n",
       "     'market_cap': 347496677028.532,\n",
       "     'percent_change_1h': -1.07241316163074,\n",
       "     'percent_change_24h': -4.74760668959008,\n",
       "     'percent_change_7d': -9.14826966384807}},\n",
       "   'last_updated': 1623346749}},\n",
       " 'metadata': {'timestamp': 1623346749,\n",
       "  'num_cryptocurrencies': 1292,\n",
       "  'error': None}}"
      ]
     },
     "execution_count": 258,
     "metadata": {},
     "output_type": "execute_result"
    }
   ],
   "source": [
    "ETH_Data = json.loads(Response_ETH_Price.decode('utf-8'))\n",
    "ETH_Data"
   ]
  },
  {
   "cell_type": "code",
   "execution_count": 259,
   "id": "2eeed8a8-0864-4c0d-adbc-e6f3ff014158",
   "metadata": {},
   "outputs": [
    {
     "data": {
      "text/plain": [
       "2984.019504"
      ]
     },
     "execution_count": 259,
     "metadata": {},
     "output_type": "execute_result"
    }
   ],
   "source": [
    "Current_ETH_Value = ETH_Data[\"data\"][\"1027\"][\"quotes\"][\"CAD\"][\"price\"]\n",
    "Current_ETH_Value"
   ]
  },
  {
   "cell_type": "code",
   "execution_count": 260,
   "id": "749e1093-7d1a-4d45-a489-43d5e9d4b0a0",
   "metadata": {},
   "outputs": [
    {
     "name": "stdout",
     "output_type": "stream",
     "text": [
      "The current value of your 1.2 BTC holdings is 52993.30848\n",
      "The current value of your 5.3 ETH holdings is 15815.3033712\n"
     ]
    }
   ],
   "source": [
    "# Calculate your total BTC and ETH holdings based on your amount (1.2 BTC, 5.3 ETH)\n",
    "My_BTC_Value = My_BTC * Current_BTC_Value\n",
    "My_ETH_Value = My_ETH * Current_ETH_Value\n",
    "\n",
    "print(f\"The current value of your {My_BTC} BTC holdings is {My_BTC_Value}\")\n",
    "print(f\"The current value of your {My_ETH} ETH holdings is {My_ETH_Value}\")\n",
    "      "
   ]
  },
  {
   "cell_type": "code",
   "execution_count": 261,
   "id": "72f9ce5c-725a-4743-b6f2-86aedf0cfa65",
   "metadata": {},
   "outputs": [],
   "source": [
    "# Collecting Request through ALPACA\n",
    "# Create Bonds (AGG) and Stocks (SPY) variable\n",
    "my_Agg = 200\n",
    "my_Spy = 50"
   ]
  },
  {
   "cell_type": "code",
   "execution_count": 262,
   "id": "ee426a08-62e8-40ee-92c1-65150b57788d",
   "metadata": {},
   "outputs": [
    {
     "data": {
      "text/plain": [
       "str"
      ]
     },
     "execution_count": 262,
     "metadata": {},
     "output_type": "execute_result"
    }
   ],
   "source": [
    "Alpaca_API_Key =os.getenv(\"Alpaca_API_Key_ID\")\n",
    "type(Alpaca_API_Key)"
   ]
  },
  {
   "cell_type": "code",
   "execution_count": 263,
   "id": "311b091f-0380-4edb-b9e6-da0c84101c57",
   "metadata": {},
   "outputs": [
    {
     "data": {
      "text/plain": [
       "str"
      ]
     },
     "execution_count": 263,
     "metadata": {},
     "output_type": "execute_result"
    }
   ],
   "source": [
    "Alpaca_S_Key = os.getenv(\"Alpaca_Secret_Key\")\n",
    "type(Alpaca_S_Key)"
   ]
  },
  {
   "cell_type": "code",
   "execution_count": 264,
   "id": "561b46ac-1995-476a-986c-687a9911d097",
   "metadata": {},
   "outputs": [],
   "source": [
    "Alpaca = tradeapi.REST(Alpaca_API_Key, Alpaca_S_Key, api_version = \"v2\")"
   ]
  },
  {
   "cell_type": "code",
   "execution_count": 265,
   "id": "2bd3944b-0541-4383-90c9-cfef29d2fc5c",
   "metadata": {},
   "outputs": [
    {
     "data": {
      "text/html": [
       "<div>\n",
       "<style scoped>\n",
       "    .dataframe tbody tr th:only-of-type {\n",
       "        vertical-align: middle;\n",
       "    }\n",
       "\n",
       "    .dataframe tbody tr th {\n",
       "        vertical-align: top;\n",
       "    }\n",
       "\n",
       "    .dataframe thead tr th {\n",
       "        text-align: left;\n",
       "    }\n",
       "</style>\n",
       "<table border=\"1\" class=\"dataframe\">\n",
       "  <thead>\n",
       "    <tr>\n",
       "      <th></th>\n",
       "      <th colspan=\"5\" halign=\"left\">AGG</th>\n",
       "      <th colspan=\"5\" halign=\"left\">SPY</th>\n",
       "    </tr>\n",
       "    <tr>\n",
       "      <th></th>\n",
       "      <th>open</th>\n",
       "      <th>high</th>\n",
       "      <th>low</th>\n",
       "      <th>close</th>\n",
       "      <th>volume</th>\n",
       "      <th>open</th>\n",
       "      <th>high</th>\n",
       "      <th>low</th>\n",
       "      <th>close</th>\n",
       "      <th>volume</th>\n",
       "    </tr>\n",
       "  </thead>\n",
       "  <tbody>\n",
       "    <tr>\n",
       "      <th>2017-06-16</th>\n",
       "      <td>109.86</td>\n",
       "      <td>109.9700</td>\n",
       "      <td>109.85</td>\n",
       "      <td>109.945</td>\n",
       "      <td>1709677.0</td>\n",
       "      <td>NaN</td>\n",
       "      <td>NaN</td>\n",
       "      <td>NaN</td>\n",
       "      <td>NaN</td>\n",
       "      <td>NaN</td>\n",
       "    </tr>\n",
       "    <tr>\n",
       "      <th>2017-06-19</th>\n",
       "      <td>109.87</td>\n",
       "      <td>109.9000</td>\n",
       "      <td>109.74</td>\n",
       "      <td>109.790</td>\n",
       "      <td>1375531.0</td>\n",
       "      <td>243.59</td>\n",
       "      <td>244.73</td>\n",
       "      <td>243.4800</td>\n",
       "      <td>244.64</td>\n",
       "      <td>42503652.0</td>\n",
       "    </tr>\n",
       "    <tr>\n",
       "      <th>2017-06-20</th>\n",
       "      <td>109.85</td>\n",
       "      <td>110.0300</td>\n",
       "      <td>109.80</td>\n",
       "      <td>109.975</td>\n",
       "      <td>2010628.0</td>\n",
       "      <td>244.25</td>\n",
       "      <td>244.26</td>\n",
       "      <td>242.9900</td>\n",
       "      <td>243.04</td>\n",
       "      <td>39203167.0</td>\n",
       "    </tr>\n",
       "    <tr>\n",
       "      <th>2017-06-21</th>\n",
       "      <td>109.88</td>\n",
       "      <td>110.0400</td>\n",
       "      <td>109.88</td>\n",
       "      <td>109.980</td>\n",
       "      <td>1085301.0</td>\n",
       "      <td>243.43</td>\n",
       "      <td>243.59</td>\n",
       "      <td>242.4100</td>\n",
       "      <td>242.95</td>\n",
       "      <td>42746920.0</td>\n",
       "    </tr>\n",
       "    <tr>\n",
       "      <th>2017-06-22</th>\n",
       "      <td>110.06</td>\n",
       "      <td>110.0947</td>\n",
       "      <td>109.95</td>\n",
       "      <td>110.050</td>\n",
       "      <td>1295361.0</td>\n",
       "      <td>242.97</td>\n",
       "      <td>243.53</td>\n",
       "      <td>242.6400</td>\n",
       "      <td>242.83</td>\n",
       "      <td>32991335.0</td>\n",
       "    </tr>\n",
       "    <tr>\n",
       "      <th>...</th>\n",
       "      <td>...</td>\n",
       "      <td>...</td>\n",
       "      <td>...</td>\n",
       "      <td>...</td>\n",
       "      <td>...</td>\n",
       "      <td>...</td>\n",
       "      <td>...</td>\n",
       "      <td>...</td>\n",
       "      <td>...</td>\n",
       "      <td>...</td>\n",
       "    </tr>\n",
       "    <tr>\n",
       "      <th>2021-06-02</th>\n",
       "      <td>114.45</td>\n",
       "      <td>114.5100</td>\n",
       "      <td>114.30</td>\n",
       "      <td>114.485</td>\n",
       "      <td>5649317.0</td>\n",
       "      <td>420.37</td>\n",
       "      <td>421.23</td>\n",
       "      <td>419.2900</td>\n",
       "      <td>420.38</td>\n",
       "      <td>41250387.0</td>\n",
       "    </tr>\n",
       "    <tr>\n",
       "      <th>2021-06-03</th>\n",
       "      <td>114.31</td>\n",
       "      <td>114.4600</td>\n",
       "      <td>114.21</td>\n",
       "      <td>114.210</td>\n",
       "      <td>3270096.0</td>\n",
       "      <td>417.87</td>\n",
       "      <td>419.99</td>\n",
       "      <td>416.2800</td>\n",
       "      <td>418.86</td>\n",
       "      <td>51582905.0</td>\n",
       "    </tr>\n",
       "    <tr>\n",
       "      <th>2021-06-04</th>\n",
       "      <td>114.39</td>\n",
       "      <td>114.6700</td>\n",
       "      <td>114.22</td>\n",
       "      <td>114.665</td>\n",
       "      <td>4334878.0</td>\n",
       "      <td>420.75</td>\n",
       "      <td>422.92</td>\n",
       "      <td>418.8422</td>\n",
       "      <td>422.57</td>\n",
       "      <td>45129316.0</td>\n",
       "    </tr>\n",
       "    <tr>\n",
       "      <th>2021-06-07</th>\n",
       "      <td>113.97</td>\n",
       "      <td>114.6400</td>\n",
       "      <td>113.97</td>\n",
       "      <td>114.595</td>\n",
       "      <td>3639918.0</td>\n",
       "      <td>422.59</td>\n",
       "      <td>422.78</td>\n",
       "      <td>421.1900</td>\n",
       "      <td>422.23</td>\n",
       "      <td>41442963.0</td>\n",
       "    </tr>\n",
       "    <tr>\n",
       "      <th>2021-06-08</th>\n",
       "      <td>114.84</td>\n",
       "      <td>114.8700</td>\n",
       "      <td>114.78</td>\n",
       "      <td>114.820</td>\n",
       "      <td>3951702.0</td>\n",
       "      <td>423.11</td>\n",
       "      <td>423.21</td>\n",
       "      <td>420.3200</td>\n",
       "      <td>422.27</td>\n",
       "      <td>40131441.0</td>\n",
       "    </tr>\n",
       "  </tbody>\n",
       "</table>\n",
       "<p>1001 rows × 10 columns</p>\n",
       "</div>"
      ],
      "text/plain": [
       "               AGG                                           SPY          \\\n",
       "              open      high     low    close     volume    open    high   \n",
       "2017-06-16  109.86  109.9700  109.85  109.945  1709677.0     NaN     NaN   \n",
       "2017-06-19  109.87  109.9000  109.74  109.790  1375531.0  243.59  244.73   \n",
       "2017-06-20  109.85  110.0300  109.80  109.975  2010628.0  244.25  244.26   \n",
       "2017-06-21  109.88  110.0400  109.88  109.980  1085301.0  243.43  243.59   \n",
       "2017-06-22  110.06  110.0947  109.95  110.050  1295361.0  242.97  243.53   \n",
       "...            ...       ...     ...      ...        ...     ...     ...   \n",
       "2021-06-02  114.45  114.5100  114.30  114.485  5649317.0  420.37  421.23   \n",
       "2021-06-03  114.31  114.4600  114.21  114.210  3270096.0  417.87  419.99   \n",
       "2021-06-04  114.39  114.6700  114.22  114.665  4334878.0  420.75  422.92   \n",
       "2021-06-07  113.97  114.6400  113.97  114.595  3639918.0  422.59  422.78   \n",
       "2021-06-08  114.84  114.8700  114.78  114.820  3951702.0  423.11  423.21   \n",
       "\n",
       "                                          \n",
       "                 low   close      volume  \n",
       "2017-06-16       NaN     NaN         NaN  \n",
       "2017-06-19  243.4800  244.64  42503652.0  \n",
       "2017-06-20  242.9900  243.04  39203167.0  \n",
       "2017-06-21  242.4100  242.95  42746920.0  \n",
       "2017-06-22  242.6400  242.83  32991335.0  \n",
       "...              ...     ...         ...  \n",
       "2021-06-02  419.2900  420.38  41250387.0  \n",
       "2021-06-03  416.2800  418.86  51582905.0  \n",
       "2021-06-04  418.8422  422.57  45129316.0  \n",
       "2021-06-07  421.1900  422.23  41442963.0  \n",
       "2021-06-08  420.3200  422.27  40131441.0  \n",
       "\n",
       "[1001 rows x 10 columns]"
      ]
     },
     "execution_count": 265,
     "metadata": {},
     "output_type": "execute_result"
    }
   ],
   "source": [
    "# Format the current date as ISO format\n",
    "Today = pd.Timestamp(\"2021-06-08\", tz = \"America/New_York\").isoformat()\n",
    "# Create Tickers\n",
    "Tickers = [\"AGG\", \"SPY\"]\n",
    "# Set Time Frame to 1D\n",
    "Timeframe = \"1D\"\n",
    "# Get stock information for the last 1000 days \n",
    "stock_portfolio = Alpaca.get_barset(Tickers, Timeframe, start=\"\", end=Today, limit=1000).df\n",
    "stock_portfolio.index = stock_portfolio.index.date\n",
    "stock_portfolio"
   ]
  },
  {
   "cell_type": "code",
   "execution_count": 266,
   "id": "68b39af1-e16b-4aab-971c-183267e51a4e",
   "metadata": {},
   "outputs": [],
   "source": [
    "# Get Closing prices for today\n",
    "stock_portfolio_today = Alpaca.get_barset(Tickers, Timeframe, start=Today, end=Today).df\n",
    "AGG_Close_Price = float(stock_portfolio_today[\"AGG\"][\"close\"])\n",
    "SPY_Close_Price = float(stock_portfolio_today[\"SPY\"][\"close\"])"
   ]
  },
  {
   "cell_type": "code",
   "execution_count": 267,
   "id": "4acd3e32-ac48-404a-ab21-ea854b855ba7",
   "metadata": {},
   "outputs": [
    {
     "name": "stdout",
     "output_type": "stream",
     "text": [
      "The current value of your 200 AGG holdings is 22964.0\n",
      "The current value of your 50 SPY holdings is 21113.5\n"
     ]
    }
   ],
   "source": [
    "# Your total value\n",
    "Total_AGG_Value = AGG_Close_Price * my_Agg\n",
    "Total_SPY_Value = SPY_Close_Price * my_Spy\n",
    "\n",
    "print(f\"The current value of your {my_Agg} AGG holdings is {Total_AGG_Value}\")\n",
    "print(f\"The current value of your {my_Spy} SPY holdings is {Total_SPY_Value}\")"
   ]
  },
  {
   "cell_type": "code",
   "execution_count": 268,
   "id": "3f6bb06a-fe40-45fc-8df7-1ecaa917b85e",
   "metadata": {},
   "outputs": [],
   "source": [
    "# Savings Health Analysis\n",
    "Household_Income = 12000\n",
    "Total_Crypto = My_BTC_Value + My_ETH_Value\n",
    "Total_Stock = Total_AGG_Value + Total_SPY_Value\n",
    "Amount = {'amount':[Total_Crypto, Total_Stock]}"
   ]
  },
  {
   "cell_type": "code",
   "execution_count": 269,
   "id": "8e0c824a-176b-454a-a5e1-b5a9a78f843a",
   "metadata": {},
   "outputs": [
    {
     "data": {
      "text/html": [
       "<div>\n",
       "<style scoped>\n",
       "    .dataframe tbody tr th:only-of-type {\n",
       "        vertical-align: middle;\n",
       "    }\n",
       "\n",
       "    .dataframe tbody tr th {\n",
       "        vertical-align: top;\n",
       "    }\n",
       "\n",
       "    .dataframe thead th {\n",
       "        text-align: right;\n",
       "    }\n",
       "</style>\n",
       "<table border=\"1\" class=\"dataframe\">\n",
       "  <thead>\n",
       "    <tr style=\"text-align: right;\">\n",
       "      <th></th>\n",
       "      <th>amount</th>\n",
       "    </tr>\n",
       "  </thead>\n",
       "  <tbody>\n",
       "    <tr>\n",
       "      <th>Crypto</th>\n",
       "      <td>68808.611851</td>\n",
       "    </tr>\n",
       "    <tr>\n",
       "      <th>Stock</th>\n",
       "      <td>44077.500000</td>\n",
       "    </tr>\n",
       "  </tbody>\n",
       "</table>\n",
       "</div>"
      ],
      "text/plain": [
       "              amount\n",
       "Crypto  68808.611851\n",
       "Stock   44077.500000"
      ]
     },
     "execution_count": 269,
     "metadata": {},
     "output_type": "execute_result"
    }
   ],
   "source": [
    "# Create Savings DataFrame\n",
    "My_Savings = pd.DataFrame(Amount, index = ['Crypto', 'Stock'])\n",
    "My_Savings"
   ]
  },
  {
   "cell_type": "code",
   "execution_count": 270,
   "id": "58d4aa74-02d7-4e45-be5a-3fad005c93f4",
   "metadata": {},
   "outputs": [
    {
     "data": {
      "text/plain": [
       "<AxesSubplot:title={'center':'Composition of Personal Savings'}, ylabel='amount'>"
      ]
     },
     "execution_count": 270,
     "metadata": {},
     "output_type": "execute_result"
    },
    {
     "data": {
      "image/png": "[encoded data removed]",
      "text/plain": [
       "<Figure size 432x288 with 1 Axes>"
      ]
     },
     "metadata": {},
     "output_type": "display_data"
    }
   ],
   "source": [
    "# Plot Savings Pie Chart\n",
    "My_Savings.plot.pie(title=\"Composition of Personal Savings\", y= \"amount\")"
   ]
  },
  {
   "cell_type": "code",
   "execution_count": 271,
   "id": "3940d5c3-ac99-4e77-b421-61cd71051f2a",
   "metadata": {},
   "outputs": [
    {
     "data": {
      "text/plain": [
       "112886.1118512"
      ]
     },
     "execution_count": 271,
     "metadata": {},
     "output_type": "execute_result"
    }
   ],
   "source": [
    "# Set ideal emergency fund\n",
    "Emergency_Fund = Household_Income * 3\n",
    "\n",
    "#Calculate total amount of savings\n",
    "Total_Savings = Total_Crypto + Total_Stock\n",
    "Total_Savings"
   ]
  },
  {
   "cell_type": "code",
   "execution_count": 272,
   "id": "b95e5cef-c272-4ff3-8fd4-8da3bd6c9f5e",
   "metadata": {},
   "outputs": [
    {
     "name": "stdout",
     "output_type": "stream",
     "text": [
      "Congratulations! You have enough money in your emergency fund.\n"
     ]
    }
   ],
   "source": [
    "# Validate Saving Health\n",
    "\n",
    "if Emergency_Fund <= Total_Savings:\n",
    "    print(\"Congratulations! You have enough money in your emergency fund.\")\n",
    "elif Emergency_Fund > Total_Savings:\n",
    "    print(\"Unfortunately, you do not have enough money in your emergency fund\")"
   ]
  },
  {
   "cell_type": "code",
   "execution_count": 273,
   "id": "26beb89d-ef51-454a-9dc8-bbbe458e7afb",
   "metadata": {},
   "outputs": [],
   "source": [
    "# PART 2 - RETIREMENT PLANNING\n",
    "# Set start and end dates of five years back from today\n",
    "Start_Date = pd.Timestamp('2016-06-08', tz='America/New_York').isoformat()\n",
    "End_Date = pd.Timestamp('2021-06-08', tz='America/New_York').isoformat()"
   ]
  },
  {
   "cell_type": "code",
   "execution_count": 274,
   "id": "bd4ec535-d9e6-4a59-aa83-0ece18febf41",
   "metadata": {},
   "outputs": [
    {
     "data": {
      "text/html": [
       "<div>\n",
       "<style scoped>\n",
       "    .dataframe tbody tr th:only-of-type {\n",
       "        vertical-align: middle;\n",
       "    }\n",
       "\n",
       "    .dataframe tbody tr th {\n",
       "        vertical-align: top;\n",
       "    }\n",
       "\n",
       "    .dataframe thead tr th {\n",
       "        text-align: left;\n",
       "    }\n",
       "\n",
       "    .dataframe thead tr:last-of-type th {\n",
       "        text-align: right;\n",
       "    }\n",
       "</style>\n",
       "<table border=\"1\" class=\"dataframe\">\n",
       "  <thead>\n",
       "    <tr>\n",
       "      <th></th>\n",
       "      <th colspan=\"5\" halign=\"left\">AGG</th>\n",
       "      <th colspan=\"5\" halign=\"left\">SPY</th>\n",
       "    </tr>\n",
       "    <tr>\n",
       "      <th></th>\n",
       "      <th>open</th>\n",
       "      <th>high</th>\n",
       "      <th>low</th>\n",
       "      <th>close</th>\n",
       "      <th>volume</th>\n",
       "      <th>open</th>\n",
       "      <th>high</th>\n",
       "      <th>low</th>\n",
       "      <th>close</th>\n",
       "      <th>volume</th>\n",
       "    </tr>\n",
       "    <tr>\n",
       "      <th>time</th>\n",
       "      <th></th>\n",
       "      <th></th>\n",
       "      <th></th>\n",
       "      <th></th>\n",
       "      <th></th>\n",
       "      <th></th>\n",
       "      <th></th>\n",
       "      <th></th>\n",
       "      <th></th>\n",
       "      <th></th>\n",
       "    </tr>\n",
       "  </thead>\n",
       "  <tbody>\n",
       "    <tr>\n",
       "      <th>2017-06-16 00:00:00-04:00</th>\n",
       "      <td>109.86</td>\n",
       "      <td>109.9700</td>\n",
       "      <td>109.85</td>\n",
       "      <td>109.945</td>\n",
       "      <td>1709677.0</td>\n",
       "      <td>NaN</td>\n",
       "      <td>NaN</td>\n",
       "      <td>NaN</td>\n",
       "      <td>NaN</td>\n",
       "      <td>NaN</td>\n",
       "    </tr>\n",
       "    <tr>\n",
       "      <th>2017-06-19 00:00:00-04:00</th>\n",
       "      <td>109.87</td>\n",
       "      <td>109.9000</td>\n",
       "      <td>109.74</td>\n",
       "      <td>109.790</td>\n",
       "      <td>1375531.0</td>\n",
       "      <td>243.59</td>\n",
       "      <td>244.73</td>\n",
       "      <td>243.48</td>\n",
       "      <td>244.64</td>\n",
       "      <td>42503652.0</td>\n",
       "    </tr>\n",
       "    <tr>\n",
       "      <th>2017-06-20 00:00:00-04:00</th>\n",
       "      <td>109.85</td>\n",
       "      <td>110.0300</td>\n",
       "      <td>109.80</td>\n",
       "      <td>109.975</td>\n",
       "      <td>2010628.0</td>\n",
       "      <td>244.25</td>\n",
       "      <td>244.26</td>\n",
       "      <td>242.99</td>\n",
       "      <td>243.04</td>\n",
       "      <td>39203167.0</td>\n",
       "    </tr>\n",
       "    <tr>\n",
       "      <th>2017-06-21 00:00:00-04:00</th>\n",
       "      <td>109.88</td>\n",
       "      <td>110.0400</td>\n",
       "      <td>109.88</td>\n",
       "      <td>109.980</td>\n",
       "      <td>1085301.0</td>\n",
       "      <td>243.43</td>\n",
       "      <td>243.59</td>\n",
       "      <td>242.41</td>\n",
       "      <td>242.95</td>\n",
       "      <td>42746920.0</td>\n",
       "    </tr>\n",
       "    <tr>\n",
       "      <th>2017-06-22 00:00:00-04:00</th>\n",
       "      <td>110.06</td>\n",
       "      <td>110.0947</td>\n",
       "      <td>109.95</td>\n",
       "      <td>110.050</td>\n",
       "      <td>1295361.0</td>\n",
       "      <td>242.97</td>\n",
       "      <td>243.53</td>\n",
       "      <td>242.64</td>\n",
       "      <td>242.83</td>\n",
       "      <td>32991335.0</td>\n",
       "    </tr>\n",
       "  </tbody>\n",
       "</table>\n",
       "</div>"
      ],
      "text/plain": [
       "                              AGG                                        \\\n",
       "                             open      high     low    close     volume   \n",
       "time                                                                      \n",
       "2017-06-16 00:00:00-04:00  109.86  109.9700  109.85  109.945  1709677.0   \n",
       "2017-06-19 00:00:00-04:00  109.87  109.9000  109.74  109.790  1375531.0   \n",
       "2017-06-20 00:00:00-04:00  109.85  110.0300  109.80  109.975  2010628.0   \n",
       "2017-06-21 00:00:00-04:00  109.88  110.0400  109.88  109.980  1085301.0   \n",
       "2017-06-22 00:00:00-04:00  110.06  110.0947  109.95  110.050  1295361.0   \n",
       "\n",
       "                              SPY                                      \n",
       "                             open    high     low   close      volume  \n",
       "time                                                                   \n",
       "2017-06-16 00:00:00-04:00     NaN     NaN     NaN     NaN         NaN  \n",
       "2017-06-19 00:00:00-04:00  243.59  244.73  243.48  244.64  42503652.0  \n",
       "2017-06-20 00:00:00-04:00  244.25  244.26  242.99  243.04  39203167.0  \n",
       "2017-06-21 00:00:00-04:00  243.43  243.59  242.41  242.95  42746920.0  \n",
       "2017-06-22 00:00:00-04:00  242.97  243.53  242.64  242.83  32991335.0  "
      ]
     },
     "execution_count": 274,
     "metadata": {},
     "output_type": "execute_result"
    }
   ],
   "source": [
    "# Get 5 years' worth of historical data for SPY and AGG\n",
    "# Use limit=1000\n",
    "\n",
    "Tickers = [\"SPY\", \"AGG\"]\n",
    "Stock_Data = Alpaca.get_barset(Tickers, Timeframe, start=Start_Date, end=End_Date, limit=1000).df\n",
    "Stock_Data.head()"
   ]
  },
  {
   "cell_type": "code",
   "execution_count": 275,
   "id": "2592aebc-9752-46ab-ab53-81563399d39e",
   "metadata": {},
   "outputs": [
    {
     "data": {
      "text/html": [
       "<div>\n",
       "<style scoped>\n",
       "    .dataframe tbody tr th:only-of-type {\n",
       "        vertical-align: middle;\n",
       "    }\n",
       "\n",
       "    .dataframe tbody tr th {\n",
       "        vertical-align: top;\n",
       "    }\n",
       "\n",
       "    .dataframe thead tr th {\n",
       "        text-align: left;\n",
       "    }\n",
       "</style>\n",
       "<table border=\"1\" class=\"dataframe\">\n",
       "  <thead>\n",
       "    <tr>\n",
       "      <th></th>\n",
       "      <th colspan=\"5\" halign=\"left\">AGG</th>\n",
       "      <th colspan=\"5\" halign=\"left\">SPY</th>\n",
       "    </tr>\n",
       "    <tr>\n",
       "      <th></th>\n",
       "      <th>open</th>\n",
       "      <th>high</th>\n",
       "      <th>low</th>\n",
       "      <th>close</th>\n",
       "      <th>volume</th>\n",
       "      <th>open</th>\n",
       "      <th>high</th>\n",
       "      <th>low</th>\n",
       "      <th>close</th>\n",
       "      <th>volume</th>\n",
       "    </tr>\n",
       "  </thead>\n",
       "  <tbody>\n",
       "    <tr>\n",
       "      <th>2017-06-16</th>\n",
       "      <td>109.86</td>\n",
       "      <td>109.9700</td>\n",
       "      <td>109.85</td>\n",
       "      <td>109.945</td>\n",
       "      <td>1709677.0</td>\n",
       "      <td>NaN</td>\n",
       "      <td>NaN</td>\n",
       "      <td>NaN</td>\n",
       "      <td>NaN</td>\n",
       "      <td>NaN</td>\n",
       "    </tr>\n",
       "    <tr>\n",
       "      <th>2017-06-19</th>\n",
       "      <td>109.87</td>\n",
       "      <td>109.9000</td>\n",
       "      <td>109.74</td>\n",
       "      <td>109.790</td>\n",
       "      <td>1375531.0</td>\n",
       "      <td>243.59</td>\n",
       "      <td>244.73</td>\n",
       "      <td>243.48</td>\n",
       "      <td>244.64</td>\n",
       "      <td>42503652.0</td>\n",
       "    </tr>\n",
       "    <tr>\n",
       "      <th>2017-06-20</th>\n",
       "      <td>109.85</td>\n",
       "      <td>110.0300</td>\n",
       "      <td>109.80</td>\n",
       "      <td>109.975</td>\n",
       "      <td>2010628.0</td>\n",
       "      <td>244.25</td>\n",
       "      <td>244.26</td>\n",
       "      <td>242.99</td>\n",
       "      <td>243.04</td>\n",
       "      <td>39203167.0</td>\n",
       "    </tr>\n",
       "    <tr>\n",
       "      <th>2017-06-21</th>\n",
       "      <td>109.88</td>\n",
       "      <td>110.0400</td>\n",
       "      <td>109.88</td>\n",
       "      <td>109.980</td>\n",
       "      <td>1085301.0</td>\n",
       "      <td>243.43</td>\n",
       "      <td>243.59</td>\n",
       "      <td>242.41</td>\n",
       "      <td>242.95</td>\n",
       "      <td>42746920.0</td>\n",
       "    </tr>\n",
       "    <tr>\n",
       "      <th>2017-06-22</th>\n",
       "      <td>110.06</td>\n",
       "      <td>110.0947</td>\n",
       "      <td>109.95</td>\n",
       "      <td>110.050</td>\n",
       "      <td>1295361.0</td>\n",
       "      <td>242.97</td>\n",
       "      <td>243.53</td>\n",
       "      <td>242.64</td>\n",
       "      <td>242.83</td>\n",
       "      <td>32991335.0</td>\n",
       "    </tr>\n",
       "  </tbody>\n",
       "</table>\n",
       "</div>"
      ],
      "text/plain": [
       "               AGG                                           SPY          \\\n",
       "              open      high     low    close     volume    open    high   \n",
       "2017-06-16  109.86  109.9700  109.85  109.945  1709677.0     NaN     NaN   \n",
       "2017-06-19  109.87  109.9000  109.74  109.790  1375531.0  243.59  244.73   \n",
       "2017-06-20  109.85  110.0300  109.80  109.975  2010628.0  244.25  244.26   \n",
       "2017-06-21  109.88  110.0400  109.88  109.980  1085301.0  243.43  243.59   \n",
       "2017-06-22  110.06  110.0947  109.95  110.050  1295361.0  242.97  243.53   \n",
       "\n",
       "                                        \n",
       "               low   close      volume  \n",
       "2017-06-16     NaN     NaN         NaN  \n",
       "2017-06-19  243.48  244.64  42503652.0  \n",
       "2017-06-20  242.99  243.04  39203167.0  \n",
       "2017-06-21  242.41  242.95  42746920.0  \n",
       "2017-06-22  242.64  242.83  32991335.0  "
      ]
     },
     "execution_count": 275,
     "metadata": {},
     "output_type": "execute_result"
    }
   ],
   "source": [
    "# Drop the time and just show date\n",
    "Stock_Data.index = Stock_Data.index.date\n",
    "Stock_Data.head()"
   ]
  },
  {
   "cell_type": "code",
   "execution_count": 276,
   "id": "c8a4ef5f-7a34-40ee-bdc1-db5f8f1a0b29",
   "metadata": {},
   "outputs": [
    {
     "data": {
      "text/plain": [
       "7560"
      ]
     },
     "execution_count": 276,
     "metadata": {},
     "output_type": "execute_result"
    }
   ],
   "source": [
    "weights = [0.4,0.6]\n",
    "num_simulation = 500\n",
    "Years = 30\n",
    "Number_Trading_Days_Per_Year = 252\n",
    "num_trading_days = Number_Trading_Days_Per_Year*Years\n",
    "num_trading_days"
   ]
  },
  {
   "cell_type": "code",
   "execution_count": 277,
   "id": "a3c1c5ef-932b-40c8-9faa-b8d8c6b138e2",
   "metadata": {},
   "outputs": [],
   "source": [
    "# Monte Carlo Simulation to forecast 30 years cumulative returns\n",
    "\n",
    "Monte_Carlo_Sim30 = MCSimulation(portfolio_data = Stock_Data, weights=[0.4,0.6], num_trading_days = 7560, num_simulation = 500)"
   ]
  },
  {
   "cell_type": "code",
   "execution_count": 278,
   "id": "9d566eaa-cd3d-41f0-a903-3c8121a5c1d4",
   "metadata": {},
   "outputs": [
    {
     "data": {
      "text/html": [
       "<div>\n",
       "<style scoped>\n",
       "    .dataframe tbody tr th:only-of-type {\n",
       "        vertical-align: middle;\n",
       "    }\n",
       "\n",
       "    .dataframe tbody tr th {\n",
       "        vertical-align: top;\n",
       "    }\n",
       "\n",
       "    .dataframe thead tr th {\n",
       "        text-align: left;\n",
       "    }\n",
       "</style>\n",
       "<table border=\"1\" class=\"dataframe\">\n",
       "  <thead>\n",
       "    <tr>\n",
       "      <th></th>\n",
       "      <th colspan=\"6\" halign=\"left\">AGG</th>\n",
       "      <th colspan=\"6\" halign=\"left\">SPY</th>\n",
       "    </tr>\n",
       "    <tr>\n",
       "      <th></th>\n",
       "      <th>open</th>\n",
       "      <th>high</th>\n",
       "      <th>low</th>\n",
       "      <th>close</th>\n",
       "      <th>volume</th>\n",
       "      <th>daily_return</th>\n",
       "      <th>open</th>\n",
       "      <th>high</th>\n",
       "      <th>low</th>\n",
       "      <th>close</th>\n",
       "      <th>volume</th>\n",
       "      <th>daily_return</th>\n",
       "    </tr>\n",
       "  </thead>\n",
       "  <tbody>\n",
       "    <tr>\n",
       "      <th>2017-06-16</th>\n",
       "      <td>109.86</td>\n",
       "      <td>109.9700</td>\n",
       "      <td>109.85</td>\n",
       "      <td>109.945</td>\n",
       "      <td>1709677.0</td>\n",
       "      <td>NaN</td>\n",
       "      <td>NaN</td>\n",
       "      <td>NaN</td>\n",
       "      <td>NaN</td>\n",
       "      <td>NaN</td>\n",
       "      <td>NaN</td>\n",
       "      <td>NaN</td>\n",
       "    </tr>\n",
       "    <tr>\n",
       "      <th>2017-06-19</th>\n",
       "      <td>109.87</td>\n",
       "      <td>109.9000</td>\n",
       "      <td>109.74</td>\n",
       "      <td>109.790</td>\n",
       "      <td>1375531.0</td>\n",
       "      <td>-0.001410</td>\n",
       "      <td>243.59</td>\n",
       "      <td>244.73</td>\n",
       "      <td>243.48</td>\n",
       "      <td>244.64</td>\n",
       "      <td>42503652.0</td>\n",
       "      <td>NaN</td>\n",
       "    </tr>\n",
       "    <tr>\n",
       "      <th>2017-06-20</th>\n",
       "      <td>109.85</td>\n",
       "      <td>110.0300</td>\n",
       "      <td>109.80</td>\n",
       "      <td>109.975</td>\n",
       "      <td>2010628.0</td>\n",
       "      <td>0.001685</td>\n",
       "      <td>244.25</td>\n",
       "      <td>244.26</td>\n",
       "      <td>242.99</td>\n",
       "      <td>243.04</td>\n",
       "      <td>39203167.0</td>\n",
       "      <td>-0.006540</td>\n",
       "    </tr>\n",
       "    <tr>\n",
       "      <th>2017-06-21</th>\n",
       "      <td>109.88</td>\n",
       "      <td>110.0400</td>\n",
       "      <td>109.88</td>\n",
       "      <td>109.980</td>\n",
       "      <td>1085301.0</td>\n",
       "      <td>0.000045</td>\n",
       "      <td>243.43</td>\n",
       "      <td>243.59</td>\n",
       "      <td>242.41</td>\n",
       "      <td>242.95</td>\n",
       "      <td>42746920.0</td>\n",
       "      <td>-0.000370</td>\n",
       "    </tr>\n",
       "    <tr>\n",
       "      <th>2017-06-22</th>\n",
       "      <td>110.06</td>\n",
       "      <td>110.0947</td>\n",
       "      <td>109.95</td>\n",
       "      <td>110.050</td>\n",
       "      <td>1295361.0</td>\n",
       "      <td>0.000636</td>\n",
       "      <td>242.97</td>\n",
       "      <td>243.53</td>\n",
       "      <td>242.64</td>\n",
       "      <td>242.83</td>\n",
       "      <td>32991335.0</td>\n",
       "      <td>-0.000494</td>\n",
       "    </tr>\n",
       "  </tbody>\n",
       "</table>\n",
       "</div>"
      ],
      "text/plain": [
       "               AGG                                                        SPY  \\\n",
       "              open      high     low    close     volume daily_return    open   \n",
       "2017-06-16  109.86  109.9700  109.85  109.945  1709677.0          NaN     NaN   \n",
       "2017-06-19  109.87  109.9000  109.74  109.790  1375531.0    -0.001410  243.59   \n",
       "2017-06-20  109.85  110.0300  109.80  109.975  2010628.0     0.001685  244.25   \n",
       "2017-06-21  109.88  110.0400  109.88  109.980  1085301.0     0.000045  243.43   \n",
       "2017-06-22  110.06  110.0947  109.95  110.050  1295361.0     0.000636  242.97   \n",
       "\n",
       "                                                             \n",
       "              high     low   close      volume daily_return  \n",
       "2017-06-16     NaN     NaN     NaN         NaN          NaN  \n",
       "2017-06-19  244.73  243.48  244.64  42503652.0          NaN  \n",
       "2017-06-20  244.26  242.99  243.04  39203167.0    -0.006540  \n",
       "2017-06-21  243.59  242.41  242.95  42746920.0    -0.000370  \n",
       "2017-06-22  243.53  242.64  242.83  32991335.0    -0.000494  "
      ]
     },
     "execution_count": 278,
     "metadata": {},
     "output_type": "execute_result"
    }
   ],
   "source": [
    "Monte_Carlo_Sim30.portfolio_data.head()"
   ]
  },
  {
   "cell_type": "code",
   "execution_count": 279,
   "id": "9f914297-3a7f-42c7-a174-33c1ad0d6a7f",
   "metadata": {},
   "outputs": [
    {
     "name": "stdout",
     "output_type": "stream",
     "text": [
      "Running Monte Carlo simulation number 0.\n",
      "Running Monte Carlo simulation number 10.\n",
      "Running Monte Carlo simulation number 20.\n",
      "Running Monte Carlo simulation number 30.\n",
      "Running Monte Carlo simulation number 40.\n",
      "Running Monte Carlo simulation number 50.\n",
      "Running Monte Carlo simulation number 60.\n",
      "Running Monte Carlo simulation number 70.\n",
      "Running Monte Carlo simulation number 80.\n",
      "Running Monte Carlo simulation number 90.\n",
      "Running Monte Carlo simulation number 100.\n",
      "Running Monte Carlo simulation number 110.\n",
      "Running Monte Carlo simulation number 120.\n",
      "Running Monte Carlo simulation number 130.\n",
      "Running Monte Carlo simulation number 140.\n",
      "Running Monte Carlo simulation number 150.\n",
      "Running Monte Carlo simulation number 160.\n",
      "Running Monte Carlo simulation number 170.\n",
      "Running Monte Carlo simulation number 180.\n",
      "Running Monte Carlo simulation number 190.\n",
      "Running Monte Carlo simulation number 200.\n",
      "Running Monte Carlo simulation number 210.\n",
      "Running Monte Carlo simulation number 220.\n",
      "Running Monte Carlo simulation number 230.\n",
      "Running Monte Carlo simulation number 240.\n",
      "Running Monte Carlo simulation number 250.\n",
      "Running Monte Carlo simulation number 260.\n",
      "Running Monte Carlo simulation number 270.\n",
      "Running Monte Carlo simulation number 280.\n",
      "Running Monte Carlo simulation number 290.\n",
      "Running Monte Carlo simulation number 300.\n",
      "Running Monte Carlo simulation number 310.\n",
      "Running Monte Carlo simulation number 320.\n",
      "Running Monte Carlo simulation number 330.\n",
      "Running Monte Carlo simulation number 340.\n",
      "Running Monte Carlo simulation number 350.\n",
      "Running Monte Carlo simulation number 360.\n",
      "Running Monte Carlo simulation number 370.\n",
      "Running Monte Carlo simulation number 380.\n",
      "Running Monte Carlo simulation number 390.\n",
      "Running Monte Carlo simulation number 400.\n",
      "Running Monte Carlo simulation number 410.\n",
      "Running Monte Carlo simulation number 420.\n",
      "Running Monte Carlo simulation number 430.\n",
      "Running Monte Carlo simulation number 440.\n",
      "Running Monte Carlo simulation number 450.\n",
      "Running Monte Carlo simulation number 460.\n",
      "Running Monte Carlo simulation number 470.\n",
      "Running Monte Carlo simulation number 480.\n",
      "Running Monte Carlo simulation number 490.\n"
     ]
    },
    {
     "data": {
      "text/html": [
       "<div>\n",
       "<style scoped>\n",
       "    .dataframe tbody tr th:only-of-type {\n",
       "        vertical-align: middle;\n",
       "    }\n",
       "\n",
       "    .dataframe tbody tr th {\n",
       "        vertical-align: top;\n",
       "    }\n",
       "\n",
       "    .dataframe thead th {\n",
       "        text-align: right;\n",
       "    }\n",
       "</style>\n",
       "<table border=\"1\" class=\"dataframe\">\n",
       "  <thead>\n",
       "    <tr style=\"text-align: right;\">\n",
       "      <th></th>\n",
       "      <th>0</th>\n",
       "      <th>1</th>\n",
       "      <th>2</th>\n",
       "      <th>3</th>\n",
       "      <th>4</th>\n",
       "      <th>5</th>\n",
       "      <th>6</th>\n",
       "      <th>7</th>\n",
       "      <th>8</th>\n",
       "      <th>9</th>\n",
       "      <th>...</th>\n",
       "      <th>490</th>\n",
       "      <th>491</th>\n",
       "      <th>492</th>\n",
       "      <th>493</th>\n",
       "      <th>494</th>\n",
       "      <th>495</th>\n",
       "      <th>496</th>\n",
       "      <th>497</th>\n",
       "      <th>498</th>\n",
       "      <th>499</th>\n",
       "    </tr>\n",
       "  </thead>\n",
       "  <tbody>\n",
       "    <tr>\n",
       "      <th>0</th>\n",
       "      <td>1.000000</td>\n",
       "      <td>1.000000</td>\n",
       "      <td>1.000000</td>\n",
       "      <td>1.000000</td>\n",
       "      <td>1.000000</td>\n",
       "      <td>1.000000</td>\n",
       "      <td>1.000000</td>\n",
       "      <td>1.000000</td>\n",
       "      <td>1.000000</td>\n",
       "      <td>1.000000</td>\n",
       "      <td>...</td>\n",
       "      <td>1.000000</td>\n",
       "      <td>1.000000</td>\n",
       "      <td>1.000000</td>\n",
       "      <td>1.000000</td>\n",
       "      <td>1.000000</td>\n",
       "      <td>1.000000</td>\n",
       "      <td>1.000000</td>\n",
       "      <td>1.000000</td>\n",
       "      <td>1.000000</td>\n",
       "      <td>1.000000</td>\n",
       "    </tr>\n",
       "    <tr>\n",
       "      <th>1</th>\n",
       "      <td>1.000248</td>\n",
       "      <td>0.996724</td>\n",
       "      <td>1.007051</td>\n",
       "      <td>1.014034</td>\n",
       "      <td>1.016166</td>\n",
       "      <td>0.999416</td>\n",
       "      <td>0.990527</td>\n",
       "      <td>1.011150</td>\n",
       "      <td>1.002527</td>\n",
       "      <td>1.013573</td>\n",
       "      <td>...</td>\n",
       "      <td>1.004444</td>\n",
       "      <td>0.996327</td>\n",
       "      <td>1.006788</td>\n",
       "      <td>1.000365</td>\n",
       "      <td>1.006177</td>\n",
       "      <td>1.007026</td>\n",
       "      <td>0.989366</td>\n",
       "      <td>0.993199</td>\n",
       "      <td>1.002028</td>\n",
       "      <td>0.998509</td>\n",
       "    </tr>\n",
       "    <tr>\n",
       "      <th>2</th>\n",
       "      <td>0.996708</td>\n",
       "      <td>0.992057</td>\n",
       "      <td>0.999719</td>\n",
       "      <td>1.008240</td>\n",
       "      <td>1.003258</td>\n",
       "      <td>1.003409</td>\n",
       "      <td>0.995134</td>\n",
       "      <td>1.014646</td>\n",
       "      <td>0.996356</td>\n",
       "      <td>1.018837</td>\n",
       "      <td>...</td>\n",
       "      <td>1.009969</td>\n",
       "      <td>1.004188</td>\n",
       "      <td>1.011524</td>\n",
       "      <td>1.009835</td>\n",
       "      <td>1.011735</td>\n",
       "      <td>1.021378</td>\n",
       "      <td>0.996374</td>\n",
       "      <td>0.983615</td>\n",
       "      <td>0.987187</td>\n",
       "      <td>1.003978</td>\n",
       "    </tr>\n",
       "    <tr>\n",
       "      <th>3</th>\n",
       "      <td>0.992846</td>\n",
       "      <td>0.989970</td>\n",
       "      <td>1.010416</td>\n",
       "      <td>0.999639</td>\n",
       "      <td>1.008497</td>\n",
       "      <td>1.012742</td>\n",
       "      <td>1.003254</td>\n",
       "      <td>1.006422</td>\n",
       "      <td>1.003927</td>\n",
       "      <td>1.026652</td>\n",
       "      <td>...</td>\n",
       "      <td>1.006746</td>\n",
       "      <td>1.011847</td>\n",
       "      <td>1.013818</td>\n",
       "      <td>0.997857</td>\n",
       "      <td>1.025552</td>\n",
       "      <td>1.026397</td>\n",
       "      <td>0.987498</td>\n",
       "      <td>0.990078</td>\n",
       "      <td>0.987547</td>\n",
       "      <td>1.001661</td>\n",
       "    </tr>\n",
       "    <tr>\n",
       "      <th>4</th>\n",
       "      <td>0.985164</td>\n",
       "      <td>0.991732</td>\n",
       "      <td>1.017647</td>\n",
       "      <td>1.003746</td>\n",
       "      <td>1.002745</td>\n",
       "      <td>1.015061</td>\n",
       "      <td>0.986032</td>\n",
       "      <td>1.007147</td>\n",
       "      <td>1.003276</td>\n",
       "      <td>1.031659</td>\n",
       "      <td>...</td>\n",
       "      <td>1.017375</td>\n",
       "      <td>1.014845</td>\n",
       "      <td>1.008160</td>\n",
       "      <td>0.994235</td>\n",
       "      <td>1.037204</td>\n",
       "      <td>1.017714</td>\n",
       "      <td>0.989845</td>\n",
       "      <td>0.975380</td>\n",
       "      <td>0.998968</td>\n",
       "      <td>0.988089</td>\n",
       "    </tr>\n",
       "    <tr>\n",
       "      <th>...</th>\n",
       "      <td>...</td>\n",
       "      <td>...</td>\n",
       "      <td>...</td>\n",
       "      <td>...</td>\n",
       "      <td>...</td>\n",
       "      <td>...</td>\n",
       "      <td>...</td>\n",
       "      <td>...</td>\n",
       "      <td>...</td>\n",
       "      <td>...</td>\n",
       "      <td>...</td>\n",
       "      <td>...</td>\n",
       "      <td>...</td>\n",
       "      <td>...</td>\n",
       "      <td>...</td>\n",
       "      <td>...</td>\n",
       "      <td>...</td>\n",
       "      <td>...</td>\n",
       "      <td>...</td>\n",
       "      <td>...</td>\n",
       "      <td>...</td>\n",
       "    </tr>\n",
       "    <tr>\n",
       "      <th>7556</th>\n",
       "      <td>13.541246</td>\n",
       "      <td>9.564344</td>\n",
       "      <td>36.903867</td>\n",
       "      <td>19.656327</td>\n",
       "      <td>6.107310</td>\n",
       "      <td>6.750062</td>\n",
       "      <td>26.336960</td>\n",
       "      <td>24.690725</td>\n",
       "      <td>12.874865</td>\n",
       "      <td>38.295801</td>\n",
       "      <td>...</td>\n",
       "      <td>20.449286</td>\n",
       "      <td>8.191755</td>\n",
       "      <td>31.527264</td>\n",
       "      <td>17.526407</td>\n",
       "      <td>9.399395</td>\n",
       "      <td>8.354990</td>\n",
       "      <td>13.471558</td>\n",
       "      <td>15.554711</td>\n",
       "      <td>9.968537</td>\n",
       "      <td>12.888152</td>\n",
       "    </tr>\n",
       "    <tr>\n",
       "      <th>7557</th>\n",
       "      <td>13.607008</td>\n",
       "      <td>9.559149</td>\n",
       "      <td>36.924601</td>\n",
       "      <td>19.817256</td>\n",
       "      <td>6.087436</td>\n",
       "      <td>6.733251</td>\n",
       "      <td>26.418844</td>\n",
       "      <td>24.965447</td>\n",
       "      <td>12.825524</td>\n",
       "      <td>37.961818</td>\n",
       "      <td>...</td>\n",
       "      <td>20.371968</td>\n",
       "      <td>8.231421</td>\n",
       "      <td>32.008019</td>\n",
       "      <td>17.460646</td>\n",
       "      <td>9.438450</td>\n",
       "      <td>8.400092</td>\n",
       "      <td>13.437011</td>\n",
       "      <td>15.397389</td>\n",
       "      <td>9.931958</td>\n",
       "      <td>12.960726</td>\n",
       "    </tr>\n",
       "    <tr>\n",
       "      <th>7558</th>\n",
       "      <td>13.703215</td>\n",
       "      <td>9.423768</td>\n",
       "      <td>36.725868</td>\n",
       "      <td>19.862747</td>\n",
       "      <td>6.085905</td>\n",
       "      <td>6.736088</td>\n",
       "      <td>26.425467</td>\n",
       "      <td>25.270128</td>\n",
       "      <td>12.926291</td>\n",
       "      <td>38.212332</td>\n",
       "      <td>...</td>\n",
       "      <td>20.753713</td>\n",
       "      <td>8.225430</td>\n",
       "      <td>31.804260</td>\n",
       "      <td>17.371750</td>\n",
       "      <td>9.486849</td>\n",
       "      <td>8.278734</td>\n",
       "      <td>13.411508</td>\n",
       "      <td>15.126503</td>\n",
       "      <td>9.912191</td>\n",
       "      <td>12.998254</td>\n",
       "    </tr>\n",
       "    <tr>\n",
       "      <th>7559</th>\n",
       "      <td>13.759130</td>\n",
       "      <td>9.362861</td>\n",
       "      <td>36.929473</td>\n",
       "      <td>20.141019</td>\n",
       "      <td>6.127053</td>\n",
       "      <td>6.698191</td>\n",
       "      <td>26.541075</td>\n",
       "      <td>25.534544</td>\n",
       "      <td>12.872083</td>\n",
       "      <td>37.816950</td>\n",
       "      <td>...</td>\n",
       "      <td>20.619812</td>\n",
       "      <td>8.235540</td>\n",
       "      <td>32.333063</td>\n",
       "      <td>17.159743</td>\n",
       "      <td>9.457808</td>\n",
       "      <td>8.307965</td>\n",
       "      <td>13.502376</td>\n",
       "      <td>15.181027</td>\n",
       "      <td>10.027052</td>\n",
       "      <td>13.033853</td>\n",
       "    </tr>\n",
       "    <tr>\n",
       "      <th>7560</th>\n",
       "      <td>13.649171</td>\n",
       "      <td>9.296940</td>\n",
       "      <td>37.000016</td>\n",
       "      <td>20.144118</td>\n",
       "      <td>6.090005</td>\n",
       "      <td>6.742948</td>\n",
       "      <td>26.890845</td>\n",
       "      <td>25.448094</td>\n",
       "      <td>12.804539</td>\n",
       "      <td>37.263433</td>\n",
       "      <td>...</td>\n",
       "      <td>20.857880</td>\n",
       "      <td>8.248926</td>\n",
       "      <td>31.954298</td>\n",
       "      <td>17.282785</td>\n",
       "      <td>9.542252</td>\n",
       "      <td>8.250283</td>\n",
       "      <td>13.427986</td>\n",
       "      <td>15.103172</td>\n",
       "      <td>10.037372</td>\n",
       "      <td>13.070568</td>\n",
       "    </tr>\n",
       "  </tbody>\n",
       "</table>\n",
       "<p>7561 rows × 500 columns</p>\n",
       "</div>"
      ],
      "text/plain": [
       "            0         1          2          3         4         5    \\\n",
       "0      1.000000  1.000000   1.000000   1.000000  1.000000  1.000000   \n",
       "1      1.000248  0.996724   1.007051   1.014034  1.016166  0.999416   \n",
       "2      0.996708  0.992057   0.999719   1.008240  1.003258  1.003409   \n",
       "3      0.992846  0.989970   1.010416   0.999639  1.008497  1.012742   \n",
       "4      0.985164  0.991732   1.017647   1.003746  1.002745  1.015061   \n",
       "...         ...       ...        ...        ...       ...       ...   \n",
       "7556  13.541246  9.564344  36.903867  19.656327  6.107310  6.750062   \n",
       "7557  13.607008  9.559149  36.924601  19.817256  6.087436  6.733251   \n",
       "7558  13.703215  9.423768  36.725868  19.862747  6.085905  6.736088   \n",
       "7559  13.759130  9.362861  36.929473  20.141019  6.127053  6.698191   \n",
       "7560  13.649171  9.296940  37.000016  20.144118  6.090005  6.742948   \n",
       "\n",
       "            6          7          8          9    ...        490       491  \\\n",
       "0      1.000000   1.000000   1.000000   1.000000  ...   1.000000  1.000000   \n",
       "1      0.990527   1.011150   1.002527   1.013573  ...   1.004444  0.996327   \n",
       "2      0.995134   1.014646   0.996356   1.018837  ...   1.009969  1.004188   \n",
       "3      1.003254   1.006422   1.003927   1.026652  ...   1.006746  1.011847   \n",
       "4      0.986032   1.007147   1.003276   1.031659  ...   1.017375  1.014845   \n",
       "...         ...        ...        ...        ...  ...        ...       ...   \n",
       "7556  26.336960  24.690725  12.874865  38.295801  ...  20.449286  8.191755   \n",
       "7557  26.418844  24.965447  12.825524  37.961818  ...  20.371968  8.231421   \n",
       "7558  26.425467  25.270128  12.926291  38.212332  ...  20.753713  8.225430   \n",
       "7559  26.541075  25.534544  12.872083  37.816950  ...  20.619812  8.235540   \n",
       "7560  26.890845  25.448094  12.804539  37.263433  ...  20.857880  8.248926   \n",
       "\n",
       "            492        493       494       495        496        497  \\\n",
       "0      1.000000   1.000000  1.000000  1.000000   1.000000   1.000000   \n",
       "1      1.006788   1.000365  1.006177  1.007026   0.989366   0.993199   \n",
       "2      1.011524   1.009835  1.011735  1.021378   0.996374   0.983615   \n",
       "3      1.013818   0.997857  1.025552  1.026397   0.987498   0.990078   \n",
       "4      1.008160   0.994235  1.037204  1.017714   0.989845   0.975380   \n",
       "...         ...        ...       ...       ...        ...        ...   \n",
       "7556  31.527264  17.526407  9.399395  8.354990  13.471558  15.554711   \n",
       "7557  32.008019  17.460646  9.438450  8.400092  13.437011  15.397389   \n",
       "7558  31.804260  17.371750  9.486849  8.278734  13.411508  15.126503   \n",
       "7559  32.333063  17.159743  9.457808  8.307965  13.502376  15.181027   \n",
       "7560  31.954298  17.282785  9.542252  8.250283  13.427986  15.103172   \n",
       "\n",
       "            498        499  \n",
       "0      1.000000   1.000000  \n",
       "1      1.002028   0.998509  \n",
       "2      0.987187   1.003978  \n",
       "3      0.987547   1.001661  \n",
       "4      0.998968   0.988089  \n",
       "...         ...        ...  \n",
       "7556   9.968537  12.888152  \n",
       "7557   9.931958  12.960726  \n",
       "7558   9.912191  12.998254  \n",
       "7559  10.027052  13.033853  \n",
       "7560  10.037372  13.070568  \n",
       "\n",
       "[7561 rows x 500 columns]"
      ]
     },
     "execution_count": 279,
     "metadata": {},
     "output_type": "execute_result"
    }
   ],
   "source": [
    "Monte_Carlo_Sim30.calc_cumulative_return()"
   ]
  },
  {
   "cell_type": "code",
   "execution_count": 280,
   "id": "4c4b2356-57aa-4006-8dc0-9e04faa1f1c4",
   "metadata": {},
   "outputs": [
    {
     "data": {
      "image/png": "[encoded data removed]",
      "text/plain": [
       "<Figure size 432x288 with 1 Axes>"
      ]
     },
     "metadata": {
      "needs_background": "light"
     },
     "output_type": "display_data"
    }
   ],
   "source": [
    "#plot simulation outcomes\n",
    "line_plot = Monte_Carlo_Sim30.plot_simulation()"
   ]
  },
  {
   "cell_type": "code",
   "execution_count": 281,
   "id": "75741825-bd2d-49df-ba9b-61b81f8b8c5e",
   "metadata": {},
   "outputs": [
    {
     "data": {
      "image/png": "[encoded data removed]",
      "text/plain": [
       "<Figure size 432x288 with 1 Axes>"
      ]
     },
     "metadata": {
      "needs_background": "light"
     },
     "output_type": "display_data"
    }
   ],
   "source": [
    "# Plot probability distribution and confidence intervals\n",
    "dist_plot = Monte_Carlo_Sim30.plot_distribution()"
   ]
  },
  {
   "cell_type": "code",
   "execution_count": 283,
   "id": "6e97e686-d278-4bc3-8aa9-d20487bde6fd",
   "metadata": {},
   "outputs": [
    {
     "name": "stdout",
     "output_type": "stream",
     "text": [
      "count           500.000000\n",
      "mean             19.594561\n",
      "std              14.642859\n",
      "min               2.952126\n",
      "25%               9.580914\n",
      "50%              15.696209\n",
      "75%              24.605818\n",
      "max             112.962813\n",
      "95% CI Lower      4.441468\n",
      "95% CI Upper     53.881942\n",
      "Name: 7560, dtype: float64\n"
     ]
    }
   ],
   "source": [
    "#Fetch summary statistics from the Monte Carlo simulation results\n",
    "Sum_Stat = Monte_Carlo_Sim30.summarize_cumulative_return()\n",
    "print(Sum_Stat)"
   ]
  },
  {
   "cell_type": "code",
   "execution_count": 284,
   "id": "416dcb33-7ec1-4c92-b700-5626b2bfd0df",
   "metadata": {},
   "outputs": [],
   "source": [
    "# Set an initial investment of 20,000\n",
    "Initial_Investment = 20000\n",
    "\n",
    "# Use the lower and upper `95%` confidence intervals to calculate the range of the possible outcomes of our $20,000\n",
    "\n",
    "Lower_Confidence_Interval = round(Sum_Stat[8]*20000,2)\n",
    "Upper_Confidence_Interval = round(Sum_Stat[9]*20000,2)"
   ]
  },
  {
   "cell_type": "code",
   "execution_count": 285,
   "id": "ffcf65c1-8c00-4471-a40d-f84623daee23",
   "metadata": {},
   "outputs": [
    {
     "name": "stdout",
     "output_type": "stream",
     "text": [
      "There is a 95% chance that an initial investment of $20000 in the portfolio over the next 30 years will end within in the range of $88829.36 and $1077638.84\n"
     ]
    }
   ],
   "source": [
    "# Print Results\n",
    "print(f\"There is a 95% chance that an initial investment of ${Initial_Investment} in the portfolio\"\n",
    "      f\" over the next 30 years will end within in the range of\"\n",
    "      f\" ${Lower_Confidence_Interval} and ${Upper_Confidence_Interval}\")"
   ]
  },
  {
   "cell_type": "code",
   "execution_count": 286,
   "id": "6f0421ff-0e45-4a35-b220-e2d2d7e044c2",
   "metadata": {},
   "outputs": [],
   "source": [
    "# Calculate the expected portfolio return at the 95% lower and upper confidence intervals based \n",
    "#on a 50% increase in the initial investment."
   ]
  },
  {
   "cell_type": "code",
   "execution_count": 288,
   "id": "cd71ed36-24e5-431a-88cb-819d1057e3ad",
   "metadata": {},
   "outputs": [
    {
     "data": {
      "text/plain": [
       "30000.0"
      ]
     },
     "execution_count": 288,
     "metadata": {},
     "output_type": "execute_result"
    }
   ],
   "source": [
    "initial_investment = 20000*1.5\n",
    "initial_investment"
   ]
  },
  {
   "cell_type": "code",
   "execution_count": 289,
   "id": "06c633ad-de3b-4e33-a252-370a0fb788a7",
   "metadata": {},
   "outputs": [
    {
     "name": "stdout",
     "output_type": "stream",
     "text": [
      "There is a 95% chance that an initial investment of $30000.0 in the portfolio over the next 30 years will end within in the range of $133244.04 and $1616458.25\n"
     ]
    }
   ],
   "source": [
    "# Use the lower and upper `95%` confidence intervals to calculate the range of the possible outcomes of our $30,000\n",
    "Lower_Confidence_Interval30 = round(Sum_Stat[8]*30000,2)\n",
    "Upper_Confidence_Interval30 = round(Sum_Stat[9]*30000,2)\n",
    "\n",
    "# Print Results\n",
    "print(f\"There is a 95% chance that an initial investment of ${initial_investment} in the portfolio\"\n",
    "      f\" over the next 30 years will end within in the range of\"\n",
    "      f\" ${Lower_Confidence_Interval30} and ${Upper_Confidence_Interval30}\")"
   ]
  },
  {
   "cell_type": "code",
   "execution_count": 2,
   "id": "37c74c1f-2529-4bc7-929a-885b9f162079",
   "metadata": {},
   "outputs": [],
   "source": [
    "Results = open(\"results.txt\", 'w')"
   ]
  },
  {
   "cell_type": "code",
   "execution_count": null,
   "id": "0c134c95-0648-45f9-9aa9-815e57b434c4",
   "metadata": {},
   "outputs": [],
   "source": []
  }
 ],
 "metadata": {
  "kernelspec": {
   "display_name": "Python 3",
   "language": "python",
   "name": "python3"
  },
  "language_info": {
   "codemirror_mode": {
    "name": "ipython",
    "version": 3
   },
   "file_extension": ".py",
   "mimetype": "text/x-python",
   "name": "python",
   "nbconvert_exporter": "python",
   "pygments_lexer": "ipython3",
   "version": "3.8.5"
  }
 },
 "nbformat": 4,
 "nbformat_minor": 5
}
